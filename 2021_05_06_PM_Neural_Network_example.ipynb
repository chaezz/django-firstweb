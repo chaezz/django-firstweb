{
  "nbformat": 4,
  "nbformat_minor": 0,
  "metadata": {
    "colab": {
      "name": "2021.05.06_PM_Neural_Network_example.ipynb",
      "provenance": [],
      "collapsed_sections": [],
      "authorship_tag": "ABX9TyOohP8LuA9oc+pCUU//bcdu",
      "include_colab_link": true
    },
    "kernelspec": {
      "name": "python3",
      "display_name": "Python 3"
    },
    "language_info": {
      "name": "python"
    },
    "accelerator": "GPU"
  },
  "cells": [
    {
      "cell_type": "markdown",
      "metadata": {
        "id": "view-in-github",
        "colab_type": "text"
      },
      "source": [
        "<a href=\"https://colab.research.google.com/github/chaezz/django-firstweb/blob/master/2021_05_06_PM_Neural_Network_example.ipynb\" target=\"_parent\"><img src=\"https://colab.research.google.com/assets/colab-badge.svg\" alt=\"Open In Colab\"/></a>"
      ]
    },
    {
      "cell_type": "markdown",
      "metadata": {
        "id": "9h7AZsyvwbvT"
      },
      "source": [
        "미세먼지 베이스라인을 만들기 위해 Neural_Network(NN)방식을 사용하려 한다.\n",
        "베이스라인은 기상 데이터(풍속, 습도, 강우량, 시간, 년중날짜)만을 이용해 미세먼지 PM2.5, PM10을 예측한다.\n",
        "\n",
        "우선 pm2.5만 확인한다."
      ]
    },
    {
      "cell_type": "code",
      "metadata": {
        "colab": {
          "base_uri": "https://localhost:8080/"
        },
        "id": "aut7lbzIwK0_",
        "outputId": "6c215dbb-f5b2-44b5-b076-5441fde9c129"
      },
      "source": [
        "from keras.models import Sequential\n",
        "from keras.layers import Dense\n",
        "# first neural network with keras make predictions\n",
        "# from numpy import loadtxt\n",
        "\n",
        "import datetime\n",
        "import pandas as pd\n",
        "import numpy as np\n",
        "\n",
        "import tensorflow as tf\n",
        "from tensorflow import keras\n",
        "from tensorflow.keras import layers\n",
        "\n",
        "print(tf.__version__)\n"
      ],
      "execution_count": 36,
      "outputs": [
        {
          "output_type": "stream",
          "text": [
            "2.4.1\n"
          ],
          "name": "stdout"
        }
      ]
    },
    {
      "cell_type": "markdown",
      "metadata": {
        "id": "4P43FvFZHdxG"
      },
      "source": [
        "### 데이터 불러오기\n",
        "기상청과 에어코리아에서 2019, 2020년도의 데이터를 불러온다.\n",
        "각 컬럼은 다음을 의미한다.\n",
        "- time : 시간\n",
        "- temp : 기온\n",
        "- ws : 풍속\n",
        "- hd : 습도\n",
        "- pp : 강수량\n",
        "- pm2.5 : 미세먼지PM2.5\n",
        "- pm10 : 미세먼지PM10\n",
        "\n"
      ]
    },
    {
      "cell_type": "code",
      "metadata": {
        "colab": {
          "base_uri": "https://localhost:8080/"
        },
        "id": "_W2k7bJFwbGT",
        "outputId": "ee30b713-64e1-44ef-8cf9-38fe8d967f18"
      },
      "source": [
        "dataset = pd.read_csv('kma_pm_2019.csv')\n",
        "dataset['time'] = dataset['time'].apply(lambda x: pd.to_datetime(str(x), format='%Y-%m-%d %H:%M'))\n",
        "print(dataset.head(10))\n",
        "print(dataset.shape)\n",
        "print(dataset.dtypes)\n",
        "\n"
      ],
      "execution_count": 109,
      "outputs": [
        {
          "output_type": "stream",
          "text": [
            "                 time  temp   ws  hd  pp   wd  pm25  pm10\n",
            "0 2019-01-01 00:00:00  -4.9  0.4  62 NaN    0   4.0  16.0\n",
            "1 2019-01-01 01:00:00  -4.4  0.6  61 NaN   90  40.0  55.0\n",
            "2 2019-01-01 02:00:00  -3.9  0.4  59 NaN    0  50.0  65.0\n",
            "3 2019-01-01 03:00:00  -4.4  1.0  61 NaN  200  39.0  73.0\n",
            "4 2019-01-01 04:00:00  -5.1  0.7  66 NaN  320  46.0  60.0\n",
            "5 2019-01-01 05:00:00  -5.5  0.0  68 NaN    0  49.0  53.0\n",
            "6 2019-01-01 06:00:00  -5.3  0.4  70 NaN    0  35.0  59.0\n",
            "7 2019-01-01 07:00:00  -5.6  0.7  73 NaN  110  42.0  52.0\n",
            "8 2019-01-01 08:00:00  -6.1  1.2  76 NaN  320  36.0  51.0\n",
            "9 2019-01-01 09:00:00  -4.9  0.8  74 NaN  320  32.0  43.0\n",
            "(8760, 8)\n",
            "time    datetime64[ns]\n",
            "temp           float64\n",
            "ws             float64\n",
            "hd               int64\n",
            "pp             float64\n",
            "wd               int64\n",
            "pm25           float64\n",
            "pm10           float64\n",
            "dtype: object\n"
          ],
          "name": "stdout"
        }
      ]
    },
    {
      "cell_type": "markdown",
      "metadata": {
        "id": "EZOlMz-EIWSy"
      },
      "source": [
        "결측치를 조회해본다.\n",
        "조회결과 강수량이 결측치가 제일 많다."
      ]
    },
    {
      "cell_type": "code",
      "metadata": {
        "colab": {
          "base_uri": "https://localhost:8080/"
        },
        "id": "dLfJf8ckIVxj",
        "outputId": "14e3955c-493b-4f01-e690-4e3bbc03541b"
      },
      "source": [
        "print(dataset.isna().sum(0))"
      ],
      "execution_count": 110,
      "outputs": [
        {
          "output_type": "stream",
          "text": [
            "time       0\n",
            "temp       0\n",
            "ws         0\n",
            "hd         0\n",
            "pp      7964\n",
            "wd         0\n",
            "pm25     556\n",
            "pm10     480\n",
            "dtype: int64\n"
          ],
          "name": "stdout"
        }
      ]
    },
    {
      "cell_type": "markdown",
      "metadata": {
        "id": "08cGPY7iIqPo"
      },
      "source": [
        "# 시간 변환\n",
        "날씨 데이터는 일일 및 연간 주기성이 명확하다.<br> 특히 미세먼지는 날씨, 시간대에 민감한 영향을 미치기 때문에 시간 및 연중 시간 신호로 변환해줘야 한다."
      ]
    },
    {
      "cell_type": "code",
      "metadata": {
        "id": "UqX3XdPzDv0V"
      },
      "source": [
        "date_time = pd.to_datetime(dataset.pop('time'), format='%d.%m.%Y %H:%M:%S')\n",
        "timestamp_s = date_time.map(datetime.datetime.timestamp)"
      ],
      "execution_count": 91,
      "outputs": []
    },
    {
      "cell_type": "code",
      "metadata": {
        "id": "svxEpLbwD5lj"
      },
      "source": [
        "day = 24*60*60\n",
        "year = (365.2425)*day\n",
        "\n",
        "dataset['Day sin'] = np.sin(timestamp_s * (2 * np.pi / day))\n",
        "dataset['Day cos'] = np.cos(timestamp_s * (2 * np.pi / day))\n",
        "dataset['Year sin'] = np.sin(timestamp_s * (2 * np.pi / year))\n",
        "dataset['Year cos'] = np.cos(timestamp_s * (2 * np.pi / year))"
      ],
      "execution_count": 92,
      "outputs": []
    },
    {
      "cell_type": "markdown",
      "metadata": {
        "id": "YTOkoZh6JIZv"
      },
      "source": [
        "필요한 데이터들만 추출한다.(강수량은 결측치가 많아서 제거)"
      ]
    },
    {
      "cell_type": "code",
      "metadata": {
        "id": "fBiCqKl484FO"
      },
      "source": [
        "col = ['temp','ws','hd','wd','pm25', 'Day sin', 'Day cos', 'Year sin', 'Year cos']\n",
        "dataset = dataset[col]"
      ],
      "execution_count": 93,
      "outputs": []
    },
    {
      "cell_type": "markdown",
      "metadata": {
        "id": "s4KywZk5JMDG"
      },
      "source": [
        "dataset에서 결측치르 제거해준다.(미세먼지 결측치 제거)"
      ]
    },
    {
      "cell_type": "code",
      "metadata": {
        "id": "3O4rNzaT9FK-"
      },
      "source": [
        "dataset = dataset.dropna()"
      ],
      "execution_count": 94,
      "outputs": []
    },
    {
      "cell_type": "markdown",
      "metadata": {
        "id": "Wf72kpCRJi1N"
      },
      "source": [
        "train_set과 test_set를 8:2 비율로 나눈다."
      ]
    },
    {
      "cell_type": "code",
      "metadata": {
        "id": "zj18Iyy59VZ7"
      },
      "source": [
        "train_dataset = dataset.sample(frac=0.8,random_state=0)\n",
        "test_dataset = dataset.drop(train_dataset.index)"
      ],
      "execution_count": 95,
      "outputs": []
    },
    {
      "cell_type": "code",
      "metadata": {
        "colab": {
          "base_uri": "https://localhost:8080/",
          "height": 419
        },
        "id": "LALTzjAEFbZd",
        "outputId": "a1647141-c989-4ab2-f84f-6d798f8496a0"
      },
      "source": [
        "train_dataset"
      ],
      "execution_count": 96,
      "outputs": [
        {
          "output_type": "execute_result",
          "data": {
            "text/html": [
              "<div>\n",
              "<style scoped>\n",
              "    .dataframe tbody tr th:only-of-type {\n",
              "        vertical-align: middle;\n",
              "    }\n",
              "\n",
              "    .dataframe tbody tr th {\n",
              "        vertical-align: top;\n",
              "    }\n",
              "\n",
              "    .dataframe thead th {\n",
              "        text-align: right;\n",
              "    }\n",
              "</style>\n",
              "<table border=\"1\" class=\"dataframe\">\n",
              "  <thead>\n",
              "    <tr style=\"text-align: right;\">\n",
              "      <th></th>\n",
              "      <th>temp</th>\n",
              "      <th>ws</th>\n",
              "      <th>hd</th>\n",
              "      <th>wd</th>\n",
              "      <th>pm25</th>\n",
              "      <th>Day sin</th>\n",
              "      <th>Day cos</th>\n",
              "      <th>Year sin</th>\n",
              "      <th>Year cos</th>\n",
              "    </tr>\n",
              "  </thead>\n",
              "  <tbody>\n",
              "    <tr>\n",
              "      <th>533</th>\n",
              "      <td>-1.0</td>\n",
              "      <td>0.8</td>\n",
              "      <td>87</td>\n",
              "      <td>90</td>\n",
              "      <td>35.0</td>\n",
              "      <td>0.965926</td>\n",
              "      <td>2.588190e-01</td>\n",
              "      <td>0.374694</td>\n",
              "      <td>0.927149</td>\n",
              "    </tr>\n",
              "    <tr>\n",
              "      <th>3065</th>\n",
              "      <td>20.5</td>\n",
              "      <td>2.1</td>\n",
              "      <td>28</td>\n",
              "      <td>200</td>\n",
              "      <td>17.0</td>\n",
              "      <td>-0.965926</td>\n",
              "      <td>-2.588190e-01</td>\n",
              "      <td>0.809108</td>\n",
              "      <td>-0.587659</td>\n",
              "    </tr>\n",
              "    <tr>\n",
              "      <th>4501</th>\n",
              "      <td>28.7</td>\n",
              "      <td>4.4</td>\n",
              "      <td>48</td>\n",
              "      <td>50</td>\n",
              "      <td>9.0</td>\n",
              "      <td>-0.258819</td>\n",
              "      <td>-9.659258e-01</td>\n",
              "      <td>-0.086558</td>\n",
              "      <td>-0.996247</td>\n",
              "    </tr>\n",
              "    <tr>\n",
              "      <th>1554</th>\n",
              "      <td>11.7</td>\n",
              "      <td>1.7</td>\n",
              "      <td>52</td>\n",
              "      <td>360</td>\n",
              "      <td>112.0</td>\n",
              "      <td>-1.000000</td>\n",
              "      <td>4.518706e-13</td>\n",
              "      <td>0.898307</td>\n",
              "      <td>0.439368</td>\n",
              "    </tr>\n",
              "    <tr>\n",
              "      <th>2036</th>\n",
              "      <td>14.3</td>\n",
              "      <td>1.5</td>\n",
              "      <td>52</td>\n",
              "      <td>200</td>\n",
              "      <td>27.0</td>\n",
              "      <td>-0.866025</td>\n",
              "      <td>5.000000e-01</td>\n",
              "      <td>0.994021</td>\n",
              "      <td>0.109188</td>\n",
              "    </tr>\n",
              "    <tr>\n",
              "      <th>...</th>\n",
              "      <td>...</td>\n",
              "      <td>...</td>\n",
              "      <td>...</td>\n",
              "      <td>...</td>\n",
              "      <td>...</td>\n",
              "      <td>...</td>\n",
              "      <td>...</td>\n",
              "      <td>...</td>\n",
              "      <td>...</td>\n",
              "    </tr>\n",
              "    <tr>\n",
              "      <th>1895</th>\n",
              "      <td>10.5</td>\n",
              "      <td>1.1</td>\n",
              "      <td>97</td>\n",
              "      <td>340</td>\n",
              "      <td>14.0</td>\n",
              "      <td>-0.258819</td>\n",
              "      <td>9.659258e-01</td>\n",
              "      <td>0.977932</td>\n",
              "      <td>0.208922</td>\n",
              "    </tr>\n",
              "    <tr>\n",
              "      <th>2674</th>\n",
              "      <td>19.7</td>\n",
              "      <td>1.0</td>\n",
              "      <td>66</td>\n",
              "      <td>200</td>\n",
              "      <td>44.0</td>\n",
              "      <td>0.500000</td>\n",
              "      <td>-8.660254e-01</td>\n",
              "      <td>0.940090</td>\n",
              "      <td>-0.340925</td>\n",
              "    </tr>\n",
              "    <tr>\n",
              "      <th>821</th>\n",
              "      <td>-1.0</td>\n",
              "      <td>1.1</td>\n",
              "      <td>64</td>\n",
              "      <td>270</td>\n",
              "      <td>37.0</td>\n",
              "      <td>0.965926</td>\n",
              "      <td>2.588190e-01</td>\n",
              "      <td>0.556776</td>\n",
              "      <td>0.830663</td>\n",
              "    </tr>\n",
              "    <tr>\n",
              "      <th>2275</th>\n",
              "      <td>14.2</td>\n",
              "      <td>2.5</td>\n",
              "      <td>31</td>\n",
              "      <td>200</td>\n",
              "      <td>33.0</td>\n",
              "      <td>-0.965926</td>\n",
              "      <td>2.588190e-01</td>\n",
              "      <td>0.998085</td>\n",
              "      <td>-0.061865</td>\n",
              "    </tr>\n",
              "    <tr>\n",
              "      <th>4221</th>\n",
              "      <td>27.8</td>\n",
              "      <td>1.9</td>\n",
              "      <td>59</td>\n",
              "      <td>140</td>\n",
              "      <td>25.0</td>\n",
              "      <td>-0.707107</td>\n",
              "      <td>7.071068e-01</td>\n",
              "      <td>0.113786</td>\n",
              "      <td>-0.993505</td>\n",
              "    </tr>\n",
              "  </tbody>\n",
              "</table>\n",
              "<p>6563 rows × 9 columns</p>\n",
              "</div>"
            ],
            "text/plain": [
              "      temp   ws  hd   wd   pm25   Day sin       Day cos  Year sin  Year cos\n",
              "533   -1.0  0.8  87   90   35.0  0.965926  2.588190e-01  0.374694  0.927149\n",
              "3065  20.5  2.1  28  200   17.0 -0.965926 -2.588190e-01  0.809108 -0.587659\n",
              "4501  28.7  4.4  48   50    9.0 -0.258819 -9.659258e-01 -0.086558 -0.996247\n",
              "1554  11.7  1.7  52  360  112.0 -1.000000  4.518706e-13  0.898307  0.439368\n",
              "2036  14.3  1.5  52  200   27.0 -0.866025  5.000000e-01  0.994021  0.109188\n",
              "...    ...  ...  ..  ...    ...       ...           ...       ...       ...\n",
              "1895  10.5  1.1  97  340   14.0 -0.258819  9.659258e-01  0.977932  0.208922\n",
              "2674  19.7  1.0  66  200   44.0  0.500000 -8.660254e-01  0.940090 -0.340925\n",
              "821   -1.0  1.1  64  270   37.0  0.965926  2.588190e-01  0.556776  0.830663\n",
              "2275  14.2  2.5  31  200   33.0 -0.965926  2.588190e-01  0.998085 -0.061865\n",
              "4221  27.8  1.9  59  140   25.0 -0.707107  7.071068e-01  0.113786 -0.993505\n",
              "\n",
              "[6563 rows x 9 columns]"
            ]
          },
          "metadata": {
            "tags": []
          },
          "execution_count": 96
        }
      ]
    },
    {
      "cell_type": "markdown",
      "metadata": {
        "id": "UIcmkq4RJtyu"
      },
      "source": [
        "### 데이터 정규화\n",
        "각 특성별 스케일의 범위가 다르기 때문에 정규화 작업을 해줘야한다.<br>\n",
        "먼저 데이터 정규화를 위해 통계적 자료를 준비하고, label(예측값)인 \"pm25\"를 train_dataset, test_dataset에서 제거해준다.\n"
      ]
    },
    {
      "cell_type": "code",
      "metadata": {
        "id": "aDLAQpZZ9-VL"
      },
      "source": [
        "train_stats = train_dataset.describe()\n",
        "train_stats.pop(\"pm25\")\n",
        "train_stats = train_stats.transpose()"
      ],
      "execution_count": 97,
      "outputs": []
    },
    {
      "cell_type": "code",
      "metadata": {
        "id": "SWU7TUuV9WSb"
      },
      "source": [
        "train_labels = train_dataset.pop('pm25')\n",
        "test_labels = test_dataset.pop('pm25')"
      ],
      "execution_count": 98,
      "outputs": []
    },
    {
      "cell_type": "code",
      "metadata": {
        "id": "SjVWiIuI927D"
      },
      "source": [
        "def norm(x):\n",
        "  return (x - train_stats['mean']) / train_stats['std']\n",
        "normed_train_data = norm(train_dataset)\n",
        "normed_test_data = norm(test_dataset)"
      ],
      "execution_count": 99,
      "outputs": []
    },
    {
      "cell_type": "markdown",
      "metadata": {
        "id": "OFjLYdYwKgWs"
      },
      "source": [
        "#### model 학습\n",
        "mode은 keras에서 사용하며, 각 레이어들은 구글에서 사용하는것 그대로 사용했다.<br>\n",
        "sumary는 모델 구조를 볼 수 있다. 일단 그냥 한번 보자."
      ]
    },
    {
      "cell_type": "code",
      "metadata": {
        "id": "iLeHuQpO9WVT"
      },
      "source": [
        "def build_model():\n",
        "  model = keras.Sequential([\n",
        "    layers.Dense(64, activation='relu', input_shape=[len(train_dataset.keys())]),\n",
        "    layers.Dense(64, activation='relu'),\n",
        "    layers.Dense(1)\n",
        "  ])\n",
        "\n",
        "  optimizer = tf.keras.optimizers.RMSprop(0.001)\n",
        "\n",
        "  model.compile(loss='mse',\n",
        "                optimizer=optimizer,\n",
        "                metrics=['mae', 'mse'])\n",
        "  return model"
      ],
      "execution_count": 100,
      "outputs": []
    },
    {
      "cell_type": "code",
      "metadata": {
        "id": "mtpNNizb9WYL"
      },
      "source": [
        "model = build_model()"
      ],
      "execution_count": 101,
      "outputs": []
    },
    {
      "cell_type": "code",
      "metadata": {
        "colab": {
          "base_uri": "https://localhost:8080/"
        },
        "id": "x8WHI6mc9Wdk",
        "outputId": "3d2b29c2-cc21-4823-f0d3-3181fe6f3b90"
      },
      "source": [
        "model.summary()"
      ],
      "execution_count": 102,
      "outputs": [
        {
          "output_type": "stream",
          "text": [
            "Model: \"sequential_4\"\n",
            "_________________________________________________________________\n",
            "Layer (type)                 Output Shape              Param #   \n",
            "=================================================================\n",
            "dense_12 (Dense)             (None, 64)                576       \n",
            "_________________________________________________________________\n",
            "dense_13 (Dense)             (None, 64)                4160      \n",
            "_________________________________________________________________\n",
            "dense_14 (Dense)             (None, 1)                 65        \n",
            "=================================================================\n",
            "Total params: 4,801\n",
            "Trainable params: 4,801\n",
            "Non-trainable params: 0\n",
            "_________________________________________________________________\n"
          ],
          "name": "stdout"
        }
      ]
    },
    {
      "cell_type": "markdown",
      "metadata": {
        "id": "u1YSuAPIK1Jw"
      },
      "source": [
        "정규화한 train 데이터 구조를 확인한다."
      ]
    },
    {
      "cell_type": "code",
      "metadata": {
        "colab": {
          "base_uri": "https://localhost:8080/",
          "height": 419
        },
        "id": "cFFcQ_StE2Z4",
        "outputId": "cac094e0-0642-48de-b388-caa7e1702cc9"
      },
      "source": [
        "normed_train_data"
      ],
      "execution_count": 103,
      "outputs": [
        {
          "output_type": "execute_result",
          "data": {
            "text/html": [
              "<div>\n",
              "<style scoped>\n",
              "    .dataframe tbody tr th:only-of-type {\n",
              "        vertical-align: middle;\n",
              "    }\n",
              "\n",
              "    .dataframe tbody tr th {\n",
              "        vertical-align: top;\n",
              "    }\n",
              "\n",
              "    .dataframe thead th {\n",
              "        text-align: right;\n",
              "    }\n",
              "</style>\n",
              "<table border=\"1\" class=\"dataframe\">\n",
              "  <thead>\n",
              "    <tr style=\"text-align: right;\">\n",
              "      <th></th>\n",
              "      <th>temp</th>\n",
              "      <th>ws</th>\n",
              "      <th>hd</th>\n",
              "      <th>wd</th>\n",
              "      <th>Day sin</th>\n",
              "      <th>Day cos</th>\n",
              "      <th>Year sin</th>\n",
              "      <th>Year cos</th>\n",
              "    </tr>\n",
              "  </thead>\n",
              "  <tbody>\n",
              "    <tr>\n",
              "      <th>533</th>\n",
              "      <td>-1.410023</td>\n",
              "      <td>-0.490873</td>\n",
              "      <td>0.939757</td>\n",
              "      <td>-0.670181</td>\n",
              "      <td>1.366791</td>\n",
              "      <td>0.377486</td>\n",
              "      <td>0.497403</td>\n",
              "      <td>1.255572</td>\n",
              "    </tr>\n",
              "    <tr>\n",
              "      <th>3065</th>\n",
              "      <td>0.697863</td>\n",
              "      <td>0.722078</td>\n",
              "      <td>-1.946471</td>\n",
              "      <td>0.212918</td>\n",
              "      <td>-1.371663</td>\n",
              "      <td>-0.352808</td>\n",
              "      <td>1.107987</td>\n",
              "      <td>-0.905561</td>\n",
              "    </tr>\n",
              "    <tr>\n",
              "      <th>4501</th>\n",
              "      <td>1.501801</td>\n",
              "      <td>2.868068</td>\n",
              "      <td>-0.968088</td>\n",
              "      <td>-0.991308</td>\n",
              "      <td>-0.369319</td>\n",
              "      <td>-1.350408</td>\n",
              "      <td>-0.150900</td>\n",
              "      <td>-1.488481</td>\n",
              "    </tr>\n",
              "    <tr>\n",
              "      <th>1554</th>\n",
              "      <td>-0.164900</td>\n",
              "      <td>0.348863</td>\n",
              "      <td>-0.772412</td>\n",
              "      <td>1.497426</td>\n",
              "      <td>-1.419964</td>\n",
              "      <td>0.012339</td>\n",
              "      <td>1.233358</td>\n",
              "      <td>0.559669</td>\n",
              "    </tr>\n",
              "    <tr>\n",
              "      <th>2036</th>\n",
              "      <td>0.090007</td>\n",
              "      <td>0.162255</td>\n",
              "      <td>-0.772412</td>\n",
              "      <td>0.212918</td>\n",
              "      <td>-1.230052</td>\n",
              "      <td>0.717749</td>\n",
              "      <td>1.367887</td>\n",
              "      <td>0.088611</td>\n",
              "    </tr>\n",
              "    <tr>\n",
              "      <th>...</th>\n",
              "      <td>...</td>\n",
              "      <td>...</td>\n",
              "      <td>...</td>\n",
              "      <td>...</td>\n",
              "      <td>...</td>\n",
              "      <td>...</td>\n",
              "      <td>...</td>\n",
              "      <td>...</td>\n",
              "    </tr>\n",
              "    <tr>\n",
              "      <th>1895</th>\n",
              "      <td>-0.282549</td>\n",
              "      <td>-0.210961</td>\n",
              "      <td>1.428948</td>\n",
              "      <td>1.336863</td>\n",
              "      <td>-0.369319</td>\n",
              "      <td>1.375086</td>\n",
              "      <td>1.345274</td>\n",
              "      <td>0.230898</td>\n",
              "    </tr>\n",
              "    <tr>\n",
              "      <th>2674</th>\n",
              "      <td>0.619430</td>\n",
              "      <td>-0.304265</td>\n",
              "      <td>-0.087545</td>\n",
              "      <td>0.212918</td>\n",
              "      <td>0.706328</td>\n",
              "      <td>-1.209466</td>\n",
              "      <td>1.292086</td>\n",
              "      <td>-0.553553</td>\n",
              "    </tr>\n",
              "    <tr>\n",
              "      <th>821</th>\n",
              "      <td>-1.410023</td>\n",
              "      <td>-0.210961</td>\n",
              "      <td>-0.185383</td>\n",
              "      <td>0.774891</td>\n",
              "      <td>1.366791</td>\n",
              "      <td>0.377486</td>\n",
              "      <td>0.753326</td>\n",
              "      <td>1.117918</td>\n",
              "    </tr>\n",
              "    <tr>\n",
              "      <th>2275</th>\n",
              "      <td>0.080203</td>\n",
              "      <td>1.095294</td>\n",
              "      <td>-1.799713</td>\n",
              "      <td>0.212918</td>\n",
              "      <td>-1.371663</td>\n",
              "      <td>0.377486</td>\n",
              "      <td>1.373598</td>\n",
              "      <td>-0.155426</td>\n",
              "    </tr>\n",
              "    <tr>\n",
              "      <th>4221</th>\n",
              "      <td>1.413563</td>\n",
              "      <td>0.535470</td>\n",
              "      <td>-0.429978</td>\n",
              "      <td>-0.268772</td>\n",
              "      <td>-1.004780</td>\n",
              "      <td>1.009939</td>\n",
              "      <td>0.130689</td>\n",
              "      <td>-1.484570</td>\n",
              "    </tr>\n",
              "  </tbody>\n",
              "</table>\n",
              "<p>6563 rows × 8 columns</p>\n",
              "</div>"
            ],
            "text/plain": [
              "          temp        ws        hd  ...   Day cos  Year sin  Year cos\n",
              "533  -1.410023 -0.490873  0.939757  ...  0.377486  0.497403  1.255572\n",
              "3065  0.697863  0.722078 -1.946471  ... -0.352808  1.107987 -0.905561\n",
              "4501  1.501801  2.868068 -0.968088  ... -1.350408 -0.150900 -1.488481\n",
              "1554 -0.164900  0.348863 -0.772412  ...  0.012339  1.233358  0.559669\n",
              "2036  0.090007  0.162255 -0.772412  ...  0.717749  1.367887  0.088611\n",
              "...        ...       ...       ...  ...       ...       ...       ...\n",
              "1895 -0.282549 -0.210961  1.428948  ...  1.375086  1.345274  0.230898\n",
              "2674  0.619430 -0.304265 -0.087545  ... -1.209466  1.292086 -0.553553\n",
              "821  -1.410023 -0.210961 -0.185383  ...  0.377486  0.753326  1.117918\n",
              "2275  0.080203  1.095294 -1.799713  ...  0.377486  1.373598 -0.155426\n",
              "4221  1.413563  0.535470 -0.429978  ...  1.009939  0.130689 -1.484570\n",
              "\n",
              "[6563 rows x 8 columns]"
            ]
          },
          "metadata": {
            "tags": []
          },
          "execution_count": 103
        }
      ]
    },
    {
      "cell_type": "markdown",
      "metadata": {
        "id": "ZnJ-majfK6oo"
      },
      "source": [
        "모델을 학습한다.\n",
        "사용하고 있는 각 파라미터들은 다음을 의미한다.\n",
        "- epoch : 학습 횟수\n",
        "- validation_split : train에서 val로 분류할 비율\n",
        "- verbose = 학습 과정 출력여부를 결정 인덱스 0:안보임, 1:보임, 2:보임"
      ]
    },
    {
      "cell_type": "code",
      "metadata": {
        "colab": {
          "base_uri": "https://localhost:8080/"
        },
        "id": "5sVTsFZ79sma",
        "outputId": "c90c8cf3-4fde-478a-ae60-731257ebab64"
      },
      "source": [
        "EPOCHS = 300\n",
        "\n",
        "history = model.fit(\n",
        "  normed_train_data, train_labels,\n",
        "  epochs=EPOCHS, validation_split = 0.2, verbose=2)"
      ],
      "execution_count": 104,
      "outputs": [
        {
          "output_type": "stream",
          "text": [
            "Epoch 1/300\n",
            "165/165 - 1s - loss: 432.4921 - mae: 13.3610 - mse: 432.4921 - val_loss: 287.9039 - val_mae: 11.0625 - val_mse: 287.9039\n",
            "Epoch 2/300\n",
            "165/165 - 0s - loss: 281.1157 - mae: 10.9359 - mse: 281.1157 - val_loss: 269.6921 - val_mae: 10.8388 - val_mse: 269.6921\n",
            "Epoch 3/300\n",
            "165/165 - 0s - loss: 265.9333 - mae: 10.6343 - mse: 265.9333 - val_loss: 261.2055 - val_mae: 11.1123 - val_mse: 261.2055\n",
            "Epoch 4/300\n",
            "165/165 - 0s - loss: 255.3023 - mae: 10.4834 - mse: 255.3023 - val_loss: 253.9227 - val_mae: 10.5647 - val_mse: 253.9227\n",
            "Epoch 5/300\n",
            "165/165 - 0s - loss: 246.2192 - mae: 10.2571 - mse: 246.2192 - val_loss: 247.6075 - val_mae: 10.7635 - val_mse: 247.6075\n",
            "Epoch 6/300\n",
            "165/165 - 0s - loss: 237.3325 - mae: 10.1099 - mse: 237.3325 - val_loss: 242.2638 - val_mae: 10.8053 - val_mse: 242.2638\n",
            "Epoch 7/300\n",
            "165/165 - 0s - loss: 230.4815 - mae: 10.0005 - mse: 230.4815 - val_loss: 240.3805 - val_mae: 10.1526 - val_mse: 240.3805\n",
            "Epoch 8/300\n",
            "165/165 - 0s - loss: 223.6450 - mae: 9.8017 - mse: 223.6450 - val_loss: 227.8354 - val_mae: 10.1046 - val_mse: 227.8354\n",
            "Epoch 9/300\n",
            "165/165 - 0s - loss: 218.1134 - mae: 9.6591 - mse: 218.1134 - val_loss: 228.0248 - val_mae: 10.2969 - val_mse: 228.0248\n",
            "Epoch 10/300\n",
            "165/165 - 0s - loss: 214.0152 - mae: 9.5826 - mse: 214.0152 - val_loss: 221.8363 - val_mae: 10.0277 - val_mse: 221.8363\n",
            "Epoch 11/300\n",
            "165/165 - 0s - loss: 209.3275 - mae: 9.5076 - mse: 209.3275 - val_loss: 215.9922 - val_mae: 9.9430 - val_mse: 215.9922\n",
            "Epoch 12/300\n",
            "165/165 - 0s - loss: 205.5169 - mae: 9.4142 - mse: 205.5169 - val_loss: 220.9372 - val_mae: 10.2434 - val_mse: 220.9372\n",
            "Epoch 13/300\n",
            "165/165 - 0s - loss: 202.7809 - mae: 9.3682 - mse: 202.7809 - val_loss: 212.4096 - val_mae: 9.9417 - val_mse: 212.4096\n",
            "Epoch 14/300\n",
            "165/165 - 0s - loss: 199.9289 - mae: 9.3021 - mse: 199.9289 - val_loss: 211.0126 - val_mae: 9.9250 - val_mse: 211.0126\n",
            "Epoch 15/300\n",
            "165/165 - 0s - loss: 196.7138 - mae: 9.2436 - mse: 196.7138 - val_loss: 208.5543 - val_mae: 9.6991 - val_mse: 208.5543\n",
            "Epoch 16/300\n",
            "165/165 - 0s - loss: 195.1358 - mae: 9.1767 - mse: 195.1358 - val_loss: 205.5452 - val_mae: 9.6029 - val_mse: 205.5452\n",
            "Epoch 17/300\n",
            "165/165 - 0s - loss: 193.0907 - mae: 9.1514 - mse: 193.0907 - val_loss: 205.0491 - val_mae: 9.7611 - val_mse: 205.0491\n",
            "Epoch 18/300\n",
            "165/165 - 0s - loss: 191.9666 - mae: 9.1589 - mse: 191.9666 - val_loss: 202.0419 - val_mae: 9.6400 - val_mse: 202.0419\n",
            "Epoch 19/300\n",
            "165/165 - 0s - loss: 189.5444 - mae: 9.0581 - mse: 189.5444 - val_loss: 201.3005 - val_mae: 9.7242 - val_mse: 201.3005\n",
            "Epoch 20/300\n",
            "165/165 - 0s - loss: 187.5476 - mae: 9.1573 - mse: 187.5476 - val_loss: 200.3625 - val_mae: 9.5633 - val_mse: 200.3625\n",
            "Epoch 21/300\n",
            "165/165 - 0s - loss: 186.4493 - mae: 9.0647 - mse: 186.4493 - val_loss: 198.8294 - val_mae: 9.5520 - val_mse: 198.8294\n",
            "Epoch 22/300\n",
            "165/165 - 0s - loss: 184.6742 - mae: 8.9875 - mse: 184.6742 - val_loss: 196.8341 - val_mae: 9.5731 - val_mse: 196.8341\n",
            "Epoch 23/300\n",
            "165/165 - 0s - loss: 182.7631 - mae: 9.0271 - mse: 182.7631 - val_loss: 200.2079 - val_mae: 9.5948 - val_mse: 200.2079\n",
            "Epoch 24/300\n",
            "165/165 - 0s - loss: 182.1612 - mae: 8.9352 - mse: 182.1612 - val_loss: 201.8949 - val_mae: 9.9490 - val_mse: 201.8949\n",
            "Epoch 25/300\n",
            "165/165 - 0s - loss: 180.0280 - mae: 8.9256 - mse: 180.0280 - val_loss: 199.5227 - val_mae: 9.4530 - val_mse: 199.5227\n",
            "Epoch 26/300\n",
            "165/165 - 0s - loss: 180.0337 - mae: 8.9032 - mse: 180.0337 - val_loss: 193.5278 - val_mae: 9.5024 - val_mse: 193.5278\n",
            "Epoch 27/300\n",
            "165/165 - 0s - loss: 178.1079 - mae: 8.8571 - mse: 178.1079 - val_loss: 189.5769 - val_mae: 9.3530 - val_mse: 189.5769\n",
            "Epoch 28/300\n",
            "165/165 - 0s - loss: 176.9434 - mae: 8.8368 - mse: 176.9434 - val_loss: 197.8748 - val_mae: 9.8777 - val_mse: 197.8748\n",
            "Epoch 29/300\n",
            "165/165 - 0s - loss: 175.5236 - mae: 8.8350 - mse: 175.5236 - val_loss: 188.2118 - val_mae: 9.2577 - val_mse: 188.2118\n",
            "Epoch 30/300\n",
            "165/165 - 0s - loss: 174.6281 - mae: 8.7974 - mse: 174.6281 - val_loss: 192.7181 - val_mae: 9.3382 - val_mse: 192.7181\n",
            "Epoch 31/300\n",
            "165/165 - 0s - loss: 173.7546 - mae: 8.7594 - mse: 173.7546 - val_loss: 185.3349 - val_mae: 9.3411 - val_mse: 185.3349\n",
            "Epoch 32/300\n",
            "165/165 - 0s - loss: 172.5306 - mae: 8.7549 - mse: 172.5306 - val_loss: 185.3665 - val_mae: 9.1904 - val_mse: 185.3665\n",
            "Epoch 33/300\n",
            "165/165 - 0s - loss: 171.5737 - mae: 8.7239 - mse: 171.5737 - val_loss: 188.8987 - val_mae: 9.5060 - val_mse: 188.8987\n",
            "Epoch 34/300\n",
            "165/165 - 0s - loss: 169.0792 - mae: 8.6799 - mse: 169.0792 - val_loss: 183.3638 - val_mae: 9.3265 - val_mse: 183.3638\n",
            "Epoch 35/300\n",
            "165/165 - 0s - loss: 169.7983 - mae: 8.6757 - mse: 169.7983 - val_loss: 184.2207 - val_mae: 9.0925 - val_mse: 184.2207\n",
            "Epoch 36/300\n",
            "165/165 - 0s - loss: 168.1089 - mae: 8.6289 - mse: 168.1089 - val_loss: 182.1393 - val_mae: 9.2950 - val_mse: 182.1393\n",
            "Epoch 37/300\n",
            "165/165 - 0s - loss: 167.0858 - mae: 8.6025 - mse: 167.0858 - val_loss: 184.2080 - val_mae: 9.1616 - val_mse: 184.2080\n",
            "Epoch 38/300\n",
            "165/165 - 0s - loss: 165.9687 - mae: 8.5857 - mse: 165.9687 - val_loss: 183.5755 - val_mae: 9.4416 - val_mse: 183.5755\n",
            "Epoch 39/300\n",
            "165/165 - 0s - loss: 165.0891 - mae: 8.5722 - mse: 165.0891 - val_loss: 177.9405 - val_mae: 9.1014 - val_mse: 177.9405\n",
            "Epoch 40/300\n",
            "165/165 - 0s - loss: 164.2123 - mae: 8.5582 - mse: 164.2123 - val_loss: 181.6980 - val_mae: 9.3767 - val_mse: 181.6980\n",
            "Epoch 41/300\n",
            "165/165 - 0s - loss: 163.4421 - mae: 8.5519 - mse: 163.4421 - val_loss: 179.1994 - val_mae: 8.9605 - val_mse: 179.1994\n",
            "Epoch 42/300\n",
            "165/165 - 0s - loss: 162.9809 - mae: 8.5245 - mse: 162.9809 - val_loss: 180.6610 - val_mae: 9.0927 - val_mse: 180.6610\n",
            "Epoch 43/300\n",
            "165/165 - 0s - loss: 161.4907 - mae: 8.4607 - mse: 161.4907 - val_loss: 180.1815 - val_mae: 9.4145 - val_mse: 180.1815\n",
            "Epoch 44/300\n",
            "165/165 - 0s - loss: 160.4093 - mae: 8.4823 - mse: 160.4093 - val_loss: 177.5557 - val_mae: 9.1298 - val_mse: 177.5557\n",
            "Epoch 45/300\n",
            "165/165 - 0s - loss: 159.6879 - mae: 8.4339 - mse: 159.6879 - val_loss: 177.8485 - val_mae: 9.2098 - val_mse: 177.8485\n",
            "Epoch 46/300\n",
            "165/165 - 0s - loss: 158.9377 - mae: 8.4221 - mse: 158.9377 - val_loss: 185.6901 - val_mae: 9.0655 - val_mse: 185.6901\n",
            "Epoch 47/300\n",
            "165/165 - 0s - loss: 157.7404 - mae: 8.3856 - mse: 157.7404 - val_loss: 183.4458 - val_mae: 9.1244 - val_mse: 183.4458\n",
            "Epoch 48/300\n",
            "165/165 - 0s - loss: 157.0434 - mae: 8.3506 - mse: 157.0434 - val_loss: 176.7643 - val_mae: 8.9922 - val_mse: 176.7643\n",
            "Epoch 49/300\n",
            "165/165 - 0s - loss: 156.3586 - mae: 8.3567 - mse: 156.3586 - val_loss: 175.1329 - val_mae: 8.9522 - val_mse: 175.1329\n",
            "Epoch 50/300\n",
            "165/165 - 0s - loss: 155.4270 - mae: 8.3200 - mse: 155.4270 - val_loss: 180.5559 - val_mae: 9.1744 - val_mse: 180.5559\n",
            "Epoch 51/300\n",
            "165/165 - 0s - loss: 155.0006 - mae: 8.3636 - mse: 155.0006 - val_loss: 171.4297 - val_mae: 8.9994 - val_mse: 171.4297\n",
            "Epoch 52/300\n",
            "165/165 - 0s - loss: 154.0632 - mae: 8.2949 - mse: 154.0632 - val_loss: 167.9664 - val_mae: 8.7943 - val_mse: 167.9664\n",
            "Epoch 53/300\n",
            "165/165 - 0s - loss: 153.3420 - mae: 8.2738 - mse: 153.3420 - val_loss: 167.7213 - val_mae: 8.8061 - val_mse: 167.7213\n",
            "Epoch 54/300\n",
            "165/165 - 0s - loss: 153.3695 - mae: 8.2917 - mse: 153.3695 - val_loss: 174.7526 - val_mae: 9.0884 - val_mse: 174.7526\n",
            "Epoch 55/300\n",
            "165/165 - 0s - loss: 151.9495 - mae: 8.2674 - mse: 151.9495 - val_loss: 170.1840 - val_mae: 8.7937 - val_mse: 170.1840\n",
            "Epoch 56/300\n",
            "165/165 - 0s - loss: 151.8581 - mae: 8.2739 - mse: 151.8581 - val_loss: 168.1842 - val_mae: 8.8205 - val_mse: 168.1842\n",
            "Epoch 57/300\n",
            "165/165 - 0s - loss: 151.0614 - mae: 8.2549 - mse: 151.0614 - val_loss: 167.0986 - val_mae: 8.9179 - val_mse: 167.0986\n",
            "Epoch 58/300\n",
            "165/165 - 0s - loss: 150.0530 - mae: 8.2158 - mse: 150.0530 - val_loss: 172.0113 - val_mae: 8.8073 - val_mse: 172.0113\n",
            "Epoch 59/300\n",
            "165/165 - 0s - loss: 149.5418 - mae: 8.1756 - mse: 149.5418 - val_loss: 171.4572 - val_mae: 8.9121 - val_mse: 171.4572\n",
            "Epoch 60/300\n",
            "165/165 - 0s - loss: 149.7511 - mae: 8.2043 - mse: 149.7511 - val_loss: 169.8914 - val_mae: 9.0918 - val_mse: 169.8914\n",
            "Epoch 61/300\n",
            "165/165 - 0s - loss: 148.3138 - mae: 8.1668 - mse: 148.3138 - val_loss: 170.0234 - val_mae: 8.9164 - val_mse: 170.0234\n",
            "Epoch 62/300\n",
            "165/165 - 0s - loss: 148.5829 - mae: 8.1717 - mse: 148.5829 - val_loss: 167.8067 - val_mae: 8.8367 - val_mse: 167.8067\n",
            "Epoch 63/300\n",
            "165/165 - 0s - loss: 147.9909 - mae: 8.1586 - mse: 147.9909 - val_loss: 166.6696 - val_mae: 8.6745 - val_mse: 166.6696\n",
            "Epoch 64/300\n",
            "165/165 - 0s - loss: 147.2301 - mae: 8.1142 - mse: 147.2301 - val_loss: 168.0090 - val_mae: 8.8449 - val_mse: 168.0090\n",
            "Epoch 65/300\n",
            "165/165 - 0s - loss: 146.4390 - mae: 8.1074 - mse: 146.4390 - val_loss: 170.0149 - val_mae: 8.7596 - val_mse: 170.0149\n",
            "Epoch 66/300\n",
            "165/165 - 0s - loss: 146.5598 - mae: 8.1394 - mse: 146.5598 - val_loss: 167.1836 - val_mae: 8.7785 - val_mse: 167.1836\n",
            "Epoch 67/300\n",
            "165/165 - 0s - loss: 145.9606 - mae: 8.1052 - mse: 145.9606 - val_loss: 165.5645 - val_mae: 8.8349 - val_mse: 165.5645\n",
            "Epoch 68/300\n",
            "165/165 - 0s - loss: 145.6989 - mae: 8.1183 - mse: 145.6989 - val_loss: 164.4204 - val_mae: 8.7352 - val_mse: 164.4204\n",
            "Epoch 69/300\n",
            "165/165 - 0s - loss: 144.8335 - mae: 8.0852 - mse: 144.8335 - val_loss: 165.0664 - val_mae: 8.8793 - val_mse: 165.0664\n",
            "Epoch 70/300\n",
            "165/165 - 0s - loss: 144.2922 - mae: 8.0890 - mse: 144.2922 - val_loss: 162.8656 - val_mae: 8.6411 - val_mse: 162.8656\n",
            "Epoch 71/300\n",
            "165/165 - 0s - loss: 144.1396 - mae: 8.0293 - mse: 144.1396 - val_loss: 161.4406 - val_mae: 8.6402 - val_mse: 161.4406\n",
            "Epoch 72/300\n",
            "165/165 - 0s - loss: 143.3489 - mae: 8.0725 - mse: 143.3489 - val_loss: 164.4269 - val_mae: 8.7228 - val_mse: 164.4269\n",
            "Epoch 73/300\n",
            "165/165 - 0s - loss: 142.7458 - mae: 8.0184 - mse: 142.7458 - val_loss: 165.3297 - val_mae: 8.6677 - val_mse: 165.3297\n",
            "Epoch 74/300\n",
            "165/165 - 0s - loss: 142.3751 - mae: 8.0163 - mse: 142.3751 - val_loss: 169.9207 - val_mae: 8.8331 - val_mse: 169.9207\n",
            "Epoch 75/300\n",
            "165/165 - 0s - loss: 142.3372 - mae: 8.0556 - mse: 142.3372 - val_loss: 169.8135 - val_mae: 8.6866 - val_mse: 169.8135\n",
            "Epoch 76/300\n",
            "165/165 - 0s - loss: 141.4108 - mae: 7.9603 - mse: 141.4108 - val_loss: 161.7247 - val_mae: 8.6633 - val_mse: 161.7247\n",
            "Epoch 77/300\n",
            "165/165 - 0s - loss: 141.4824 - mae: 8.0051 - mse: 141.4824 - val_loss: 163.8422 - val_mae: 8.5779 - val_mse: 163.8422\n",
            "Epoch 78/300\n",
            "165/165 - 0s - loss: 141.1231 - mae: 7.9861 - mse: 141.1231 - val_loss: 162.9913 - val_mae: 8.6017 - val_mse: 162.9913\n",
            "Epoch 79/300\n",
            "165/165 - 0s - loss: 140.6110 - mae: 7.9641 - mse: 140.6110 - val_loss: 165.1693 - val_mae: 8.5897 - val_mse: 165.1693\n",
            "Epoch 80/300\n",
            "165/165 - 0s - loss: 140.0950 - mae: 7.9694 - mse: 140.0950 - val_loss: 160.9482 - val_mae: 8.6295 - val_mse: 160.9482\n",
            "Epoch 81/300\n",
            "165/165 - 0s - loss: 140.2244 - mae: 7.9220 - mse: 140.2244 - val_loss: 162.8239 - val_mae: 8.6100 - val_mse: 162.8239\n",
            "Epoch 82/300\n",
            "165/165 - 0s - loss: 139.1096 - mae: 7.9280 - mse: 139.1096 - val_loss: 160.1264 - val_mae: 8.5103 - val_mse: 160.1264\n",
            "Epoch 83/300\n",
            "165/165 - 0s - loss: 139.2932 - mae: 7.9470 - mse: 139.2932 - val_loss: 166.3296 - val_mae: 8.7543 - val_mse: 166.3296\n",
            "Epoch 84/300\n",
            "165/165 - 0s - loss: 137.9232 - mae: 7.9429 - mse: 137.9232 - val_loss: 160.2678 - val_mae: 8.6045 - val_mse: 160.2678\n",
            "Epoch 85/300\n",
            "165/165 - 0s - loss: 138.7356 - mae: 7.9163 - mse: 138.7356 - val_loss: 162.5859 - val_mae: 8.7226 - val_mse: 162.5859\n",
            "Epoch 86/300\n",
            "165/165 - 0s - loss: 138.0659 - mae: 7.9154 - mse: 138.0659 - val_loss: 171.4606 - val_mae: 8.8094 - val_mse: 171.4606\n",
            "Epoch 87/300\n",
            "165/165 - 0s - loss: 137.6951 - mae: 7.8770 - mse: 137.6951 - val_loss: 162.0798 - val_mae: 8.6011 - val_mse: 162.0798\n",
            "Epoch 88/300\n",
            "165/165 - 0s - loss: 137.0129 - mae: 7.8700 - mse: 137.0129 - val_loss: 159.1337 - val_mae: 8.6157 - val_mse: 159.1337\n",
            "Epoch 89/300\n",
            "165/165 - 0s - loss: 136.9679 - mae: 7.8842 - mse: 136.9679 - val_loss: 161.0564 - val_mae: 8.4751 - val_mse: 161.0564\n",
            "Epoch 90/300\n",
            "165/165 - 0s - loss: 135.2435 - mae: 7.8800 - mse: 135.2435 - val_loss: 167.2573 - val_mae: 8.5414 - val_mse: 167.2573\n",
            "Epoch 91/300\n",
            "165/165 - 0s - loss: 135.9421 - mae: 7.8365 - mse: 135.9421 - val_loss: 163.1594 - val_mae: 8.6411 - val_mse: 163.1594\n",
            "Epoch 92/300\n",
            "165/165 - 0s - loss: 135.9723 - mae: 7.8513 - mse: 135.9723 - val_loss: 155.4737 - val_mae: 8.4077 - val_mse: 155.4737\n",
            "Epoch 93/300\n",
            "165/165 - 0s - loss: 136.0195 - mae: 7.8559 - mse: 136.0195 - val_loss: 161.0029 - val_mae: 8.5445 - val_mse: 161.0029\n",
            "Epoch 94/300\n",
            "165/165 - 0s - loss: 135.1270 - mae: 7.8190 - mse: 135.1270 - val_loss: 163.3881 - val_mae: 8.6136 - val_mse: 163.3881\n",
            "Epoch 95/300\n",
            "165/165 - 0s - loss: 134.4667 - mae: 7.8000 - mse: 134.4667 - val_loss: 162.9074 - val_mae: 8.6847 - val_mse: 162.9074\n",
            "Epoch 96/300\n",
            "165/165 - 0s - loss: 134.0785 - mae: 7.7987 - mse: 134.0785 - val_loss: 159.2519 - val_mae: 8.7982 - val_mse: 159.2519\n",
            "Epoch 97/300\n",
            "165/165 - 0s - loss: 134.1255 - mae: 7.8090 - mse: 134.1255 - val_loss: 169.4404 - val_mae: 8.7049 - val_mse: 169.4404\n",
            "Epoch 98/300\n",
            "165/165 - 0s - loss: 133.9585 - mae: 7.8016 - mse: 133.9585 - val_loss: 156.7692 - val_mae: 8.5167 - val_mse: 156.7692\n",
            "Epoch 99/300\n",
            "165/165 - 0s - loss: 133.9347 - mae: 7.7968 - mse: 133.9347 - val_loss: 158.3600 - val_mae: 8.3872 - val_mse: 158.3600\n",
            "Epoch 100/300\n",
            "165/165 - 0s - loss: 133.6985 - mae: 7.7933 - mse: 133.6985 - val_loss: 165.6864 - val_mae: 8.5880 - val_mse: 165.6864\n",
            "Epoch 101/300\n",
            "165/165 - 0s - loss: 133.2913 - mae: 7.7856 - mse: 133.2913 - val_loss: 155.4491 - val_mae: 8.4478 - val_mse: 155.4491\n",
            "Epoch 102/300\n",
            "165/165 - 0s - loss: 132.8697 - mae: 7.7568 - mse: 132.8697 - val_loss: 154.9177 - val_mae: 8.4394 - val_mse: 154.9177\n",
            "Epoch 103/300\n",
            "165/165 - 0s - loss: 132.4048 - mae: 7.7760 - mse: 132.4048 - val_loss: 158.6270 - val_mae: 8.4301 - val_mse: 158.6270\n",
            "Epoch 104/300\n",
            "165/165 - 0s - loss: 131.4483 - mae: 7.7659 - mse: 131.4483 - val_loss: 154.0779 - val_mae: 8.4208 - val_mse: 154.0779\n",
            "Epoch 105/300\n",
            "165/165 - 0s - loss: 131.8945 - mae: 7.7373 - mse: 131.8945 - val_loss: 157.8764 - val_mae: 8.4266 - val_mse: 157.8764\n",
            "Epoch 106/300\n",
            "165/165 - 0s - loss: 131.9011 - mae: 7.7479 - mse: 131.9011 - val_loss: 160.9799 - val_mae: 9.0609 - val_mse: 160.9799\n",
            "Epoch 107/300\n",
            "165/165 - 0s - loss: 131.6765 - mae: 7.7433 - mse: 131.6765 - val_loss: 154.8706 - val_mae: 8.5839 - val_mse: 154.8706\n",
            "Epoch 108/300\n",
            "165/165 - 0s - loss: 131.4668 - mae: 7.7284 - mse: 131.4668 - val_loss: 156.7026 - val_mae: 8.6863 - val_mse: 156.7026\n",
            "Epoch 109/300\n",
            "165/165 - 0s - loss: 130.9276 - mae: 7.7051 - mse: 130.9276 - val_loss: 159.2753 - val_mae: 8.4063 - val_mse: 159.2753\n",
            "Epoch 110/300\n",
            "165/165 - 0s - loss: 130.9955 - mae: 7.7248 - mse: 130.9955 - val_loss: 165.3445 - val_mae: 8.6209 - val_mse: 165.3445\n",
            "Epoch 111/300\n",
            "165/165 - 0s - loss: 130.0732 - mae: 7.7152 - mse: 130.0732 - val_loss: 157.5014 - val_mae: 8.3572 - val_mse: 157.5014\n",
            "Epoch 112/300\n",
            "165/165 - 0s - loss: 129.9058 - mae: 7.6977 - mse: 129.9058 - val_loss: 153.6926 - val_mae: 8.3774 - val_mse: 153.6926\n",
            "Epoch 113/300\n",
            "165/165 - 0s - loss: 129.6208 - mae: 7.7048 - mse: 129.6208 - val_loss: 161.4218 - val_mae: 8.4827 - val_mse: 161.4218\n",
            "Epoch 114/300\n",
            "165/165 - 0s - loss: 129.8813 - mae: 7.7023 - mse: 129.8813 - val_loss: 156.4019 - val_mae: 8.3110 - val_mse: 156.4019\n",
            "Epoch 115/300\n",
            "165/165 - 0s - loss: 129.7111 - mae: 7.6811 - mse: 129.7111 - val_loss: 153.1349 - val_mae: 8.4892 - val_mse: 153.1349\n",
            "Epoch 116/300\n",
            "165/165 - 0s - loss: 128.8420 - mae: 7.6814 - mse: 128.8420 - val_loss: 150.9359 - val_mae: 8.2743 - val_mse: 150.9359\n",
            "Epoch 117/300\n",
            "165/165 - 0s - loss: 128.6352 - mae: 7.6728 - mse: 128.6352 - val_loss: 179.5598 - val_mae: 9.7638 - val_mse: 179.5598\n",
            "Epoch 118/300\n",
            "165/165 - 0s - loss: 128.6439 - mae: 7.6774 - mse: 128.6439 - val_loss: 153.3008 - val_mae: 8.5532 - val_mse: 153.3008\n",
            "Epoch 119/300\n",
            "165/165 - 0s - loss: 127.8676 - mae: 7.6622 - mse: 127.8676 - val_loss: 158.3051 - val_mae: 8.4135 - val_mse: 158.3051\n",
            "Epoch 120/300\n",
            "165/165 - 0s - loss: 127.2808 - mae: 7.6123 - mse: 127.2808 - val_loss: 158.7692 - val_mae: 8.4704 - val_mse: 158.7692\n",
            "Epoch 121/300\n",
            "165/165 - 0s - loss: 128.1645 - mae: 7.6750 - mse: 128.1645 - val_loss: 159.5092 - val_mae: 8.8161 - val_mse: 159.5092\n",
            "Epoch 122/300\n",
            "165/165 - 0s - loss: 127.7615 - mae: 7.6841 - mse: 127.7615 - val_loss: 166.1485 - val_mae: 9.0645 - val_mse: 166.1485\n",
            "Epoch 123/300\n",
            "165/165 - 0s - loss: 128.0130 - mae: 7.6544 - mse: 128.0130 - val_loss: 160.0523 - val_mae: 8.7219 - val_mse: 160.0523\n",
            "Epoch 124/300\n",
            "165/165 - 0s - loss: 127.4594 - mae: 7.6422 - mse: 127.4594 - val_loss: 156.6395 - val_mae: 8.7949 - val_mse: 156.6395\n",
            "Epoch 125/300\n",
            "165/165 - 0s - loss: 126.6602 - mae: 7.6087 - mse: 126.6602 - val_loss: 150.9890 - val_mae: 8.3792 - val_mse: 150.9890\n",
            "Epoch 126/300\n",
            "165/165 - 0s - loss: 125.9263 - mae: 7.6258 - mse: 125.9263 - val_loss: 161.6550 - val_mae: 9.0640 - val_mse: 161.6550\n",
            "Epoch 127/300\n",
            "165/165 - 0s - loss: 125.6621 - mae: 7.6258 - mse: 125.6621 - val_loss: 162.0071 - val_mae: 8.5849 - val_mse: 162.0071\n",
            "Epoch 128/300\n",
            "165/165 - 0s - loss: 126.5405 - mae: 7.6129 - mse: 126.5405 - val_loss: 154.6567 - val_mae: 8.6501 - val_mse: 154.6567\n",
            "Epoch 129/300\n",
            "165/165 - 0s - loss: 126.0854 - mae: 7.6576 - mse: 126.0854 - val_loss: 158.5901 - val_mae: 8.3887 - val_mse: 158.5901\n",
            "Epoch 130/300\n",
            "165/165 - 0s - loss: 125.9107 - mae: 7.5911 - mse: 125.9107 - val_loss: 155.9745 - val_mae: 8.3884 - val_mse: 155.9745\n",
            "Epoch 131/300\n",
            "165/165 - 0s - loss: 125.7274 - mae: 7.5674 - mse: 125.7274 - val_loss: 154.7121 - val_mae: 8.6185 - val_mse: 154.7121\n",
            "Epoch 132/300\n",
            "165/165 - 0s - loss: 125.4624 - mae: 7.5788 - mse: 125.4624 - val_loss: 172.6338 - val_mae: 9.0681 - val_mse: 172.6338\n",
            "Epoch 133/300\n",
            "165/165 - 0s - loss: 125.4224 - mae: 7.5772 - mse: 125.4224 - val_loss: 174.1864 - val_mae: 8.8370 - val_mse: 174.1864\n",
            "Epoch 134/300\n",
            "165/165 - 0s - loss: 124.9263 - mae: 7.5534 - mse: 124.9263 - val_loss: 151.5729 - val_mae: 8.2881 - val_mse: 151.5729\n",
            "Epoch 135/300\n",
            "165/165 - 0s - loss: 124.1764 - mae: 7.6230 - mse: 124.1764 - val_loss: 155.4818 - val_mae: 8.2567 - val_mse: 155.4818\n",
            "Epoch 136/300\n",
            "165/165 - 0s - loss: 124.3828 - mae: 7.5465 - mse: 124.3828 - val_loss: 162.7192 - val_mae: 8.4167 - val_mse: 162.7192\n",
            "Epoch 137/300\n",
            "165/165 - 0s - loss: 123.5679 - mae: 7.5189 - mse: 123.5679 - val_loss: 154.6068 - val_mae: 8.3086 - val_mse: 154.6068\n",
            "Epoch 138/300\n",
            "165/165 - 0s - loss: 124.1979 - mae: 7.5492 - mse: 124.1979 - val_loss: 149.3889 - val_mae: 8.3832 - val_mse: 149.3889\n",
            "Epoch 139/300\n",
            "165/165 - 0s - loss: 124.2944 - mae: 7.5776 - mse: 124.2944 - val_loss: 169.9852 - val_mae: 8.7881 - val_mse: 169.9852\n",
            "Epoch 140/300\n",
            "165/165 - 0s - loss: 123.5129 - mae: 7.5441 - mse: 123.5129 - val_loss: 164.6940 - val_mae: 8.5192 - val_mse: 164.6940\n",
            "Epoch 141/300\n",
            "165/165 - 0s - loss: 124.0694 - mae: 7.5740 - mse: 124.0694 - val_loss: 158.5766 - val_mae: 8.8328 - val_mse: 158.5766\n",
            "Epoch 142/300\n",
            "165/165 - 0s - loss: 123.2458 - mae: 7.5217 - mse: 123.2458 - val_loss: 164.1497 - val_mae: 8.6648 - val_mse: 164.1497\n",
            "Epoch 143/300\n",
            "165/165 - 0s - loss: 123.1325 - mae: 7.5005 - mse: 123.1325 - val_loss: 149.8779 - val_mae: 8.2235 - val_mse: 149.8779\n",
            "Epoch 144/300\n",
            "165/165 - 0s - loss: 122.2221 - mae: 7.5383 - mse: 122.2221 - val_loss: 159.8574 - val_mae: 8.5401 - val_mse: 159.8574\n",
            "Epoch 145/300\n",
            "165/165 - 0s - loss: 122.2597 - mae: 7.4988 - mse: 122.2597 - val_loss: 154.2754 - val_mae: 8.5584 - val_mse: 154.2754\n",
            "Epoch 146/300\n",
            "165/165 - 0s - loss: 122.8506 - mae: 7.4912 - mse: 122.8506 - val_loss: 158.8595 - val_mae: 8.6633 - val_mse: 158.8595\n",
            "Epoch 147/300\n",
            "165/165 - 0s - loss: 122.1316 - mae: 7.4932 - mse: 122.1316 - val_loss: 161.0061 - val_mae: 8.4287 - val_mse: 161.0061\n",
            "Epoch 148/300\n",
            "165/165 - 0s - loss: 122.4068 - mae: 7.4943 - mse: 122.4068 - val_loss: 152.6948 - val_mae: 8.1848 - val_mse: 152.6948\n",
            "Epoch 149/300\n",
            "165/165 - 0s - loss: 122.2273 - mae: 7.4895 - mse: 122.2273 - val_loss: 151.4592 - val_mae: 8.2381 - val_mse: 151.4592\n",
            "Epoch 150/300\n",
            "165/165 - 0s - loss: 121.3645 - mae: 7.4969 - mse: 121.3645 - val_loss: 149.5532 - val_mae: 8.2265 - val_mse: 149.5532\n",
            "Epoch 151/300\n",
            "165/165 - 0s - loss: 120.4502 - mae: 7.4699 - mse: 120.4502 - val_loss: 157.8040 - val_mae: 8.3819 - val_mse: 157.8040\n",
            "Epoch 152/300\n",
            "165/165 - 0s - loss: 121.6259 - mae: 7.4798 - mse: 121.6259 - val_loss: 161.5366 - val_mae: 8.7267 - val_mse: 161.5366\n",
            "Epoch 153/300\n",
            "165/165 - 0s - loss: 120.4753 - mae: 7.4543 - mse: 120.4753 - val_loss: 150.5846 - val_mae: 8.2467 - val_mse: 150.5846\n",
            "Epoch 154/300\n",
            "165/165 - 0s - loss: 120.3652 - mae: 7.4432 - mse: 120.3652 - val_loss: 150.4127 - val_mae: 8.2769 - val_mse: 150.4127\n",
            "Epoch 155/300\n",
            "165/165 - 0s - loss: 120.1065 - mae: 7.4451 - mse: 120.1065 - val_loss: 156.9207 - val_mae: 8.2746 - val_mse: 156.9207\n",
            "Epoch 156/300\n",
            "165/165 - 0s - loss: 120.6185 - mae: 7.4474 - mse: 120.6185 - val_loss: 157.1879 - val_mae: 8.5615 - val_mse: 157.1879\n",
            "Epoch 157/300\n",
            "165/165 - 0s - loss: 120.6306 - mae: 7.4619 - mse: 120.6306 - val_loss: 152.7845 - val_mae: 8.4080 - val_mse: 152.7845\n",
            "Epoch 158/300\n",
            "165/165 - 0s - loss: 119.8585 - mae: 7.4223 - mse: 119.8585 - val_loss: 167.1444 - val_mae: 9.4626 - val_mse: 167.1444\n",
            "Epoch 159/300\n",
            "165/165 - 0s - loss: 120.1854 - mae: 7.4435 - mse: 120.1854 - val_loss: 148.9299 - val_mae: 8.3021 - val_mse: 148.9299\n",
            "Epoch 160/300\n",
            "165/165 - 0s - loss: 119.8416 - mae: 7.4564 - mse: 119.8416 - val_loss: 156.9474 - val_mae: 8.7495 - val_mse: 156.9474\n",
            "Epoch 161/300\n",
            "165/165 - 0s - loss: 119.7101 - mae: 7.4274 - mse: 119.7101 - val_loss: 161.9395 - val_mae: 8.5561 - val_mse: 161.9395\n",
            "Epoch 162/300\n",
            "165/165 - 0s - loss: 119.5666 - mae: 7.4279 - mse: 119.5666 - val_loss: 154.8474 - val_mae: 8.6041 - val_mse: 154.8474\n",
            "Epoch 163/300\n",
            "165/165 - 0s - loss: 118.7368 - mae: 7.4287 - mse: 118.7368 - val_loss: 157.7939 - val_mae: 8.5168 - val_mse: 157.7939\n",
            "Epoch 164/300\n",
            "165/165 - 0s - loss: 118.5910 - mae: 7.4072 - mse: 118.5910 - val_loss: 159.9480 - val_mae: 8.3878 - val_mse: 159.9480\n",
            "Epoch 165/300\n",
            "165/165 - 0s - loss: 118.4350 - mae: 7.4160 - mse: 118.4350 - val_loss: 150.9603 - val_mae: 8.4242 - val_mse: 150.9603\n",
            "Epoch 166/300\n",
            "165/165 - 0s - loss: 117.8935 - mae: 7.4162 - mse: 117.8935 - val_loss: 150.6653 - val_mae: 8.4128 - val_mse: 150.6653\n",
            "Epoch 167/300\n",
            "165/165 - 0s - loss: 118.8245 - mae: 7.4277 - mse: 118.8245 - val_loss: 150.7800 - val_mae: 8.6286 - val_mse: 150.7800\n",
            "Epoch 168/300\n",
            "165/165 - 0s - loss: 118.7666 - mae: 7.3970 - mse: 118.7666 - val_loss: 159.8425 - val_mae: 8.5261 - val_mse: 159.8425\n",
            "Epoch 169/300\n",
            "165/165 - 0s - loss: 117.8522 - mae: 7.3988 - mse: 117.8522 - val_loss: 158.2998 - val_mae: 8.4184 - val_mse: 158.2998\n",
            "Epoch 170/300\n",
            "165/165 - 0s - loss: 117.4041 - mae: 7.3697 - mse: 117.4041 - val_loss: 156.0688 - val_mae: 8.3666 - val_mse: 156.0688\n",
            "Epoch 171/300\n",
            "165/165 - 0s - loss: 118.0710 - mae: 7.4297 - mse: 118.0710 - val_loss: 148.9176 - val_mae: 8.4124 - val_mse: 148.9176\n",
            "Epoch 172/300\n",
            "165/165 - 0s - loss: 117.2630 - mae: 7.3874 - mse: 117.2630 - val_loss: 149.5886 - val_mae: 8.0999 - val_mse: 149.5886\n",
            "Epoch 173/300\n",
            "165/165 - 0s - loss: 117.1530 - mae: 7.3555 - mse: 117.1530 - val_loss: 160.9371 - val_mae: 8.4262 - val_mse: 160.9371\n",
            "Epoch 174/300\n",
            "165/165 - 0s - loss: 117.0799 - mae: 7.3758 - mse: 117.0799 - val_loss: 157.7794 - val_mae: 8.3356 - val_mse: 157.7794\n",
            "Epoch 175/300\n",
            "165/165 - 0s - loss: 117.2018 - mae: 7.3790 - mse: 117.2018 - val_loss: 145.6581 - val_mae: 8.1596 - val_mse: 145.6581\n",
            "Epoch 176/300\n",
            "165/165 - 0s - loss: 116.5228 - mae: 7.3443 - mse: 116.5228 - val_loss: 157.2957 - val_mae: 8.7489 - val_mse: 157.2957\n",
            "Epoch 177/300\n",
            "165/165 - 0s - loss: 116.5101 - mae: 7.3413 - mse: 116.5101 - val_loss: 155.6110 - val_mae: 8.3192 - val_mse: 155.6110\n",
            "Epoch 178/300\n",
            "165/165 - 0s - loss: 116.4956 - mae: 7.3458 - mse: 116.4956 - val_loss: 156.4026 - val_mae: 8.3464 - val_mse: 156.4026\n",
            "Epoch 179/300\n",
            "165/165 - 0s - loss: 116.6054 - mae: 7.3423 - mse: 116.6054 - val_loss: 163.8182 - val_mae: 8.8313 - val_mse: 163.8182\n",
            "Epoch 180/300\n",
            "165/165 - 0s - loss: 116.5127 - mae: 7.3511 - mse: 116.5127 - val_loss: 148.1587 - val_mae: 8.0903 - val_mse: 148.1587\n",
            "Epoch 181/300\n",
            "165/165 - 0s - loss: 115.5823 - mae: 7.2748 - mse: 115.5823 - val_loss: 154.2691 - val_mae: 8.7270 - val_mse: 154.2691\n",
            "Epoch 182/300\n",
            "165/165 - 0s - loss: 115.6527 - mae: 7.3419 - mse: 115.6527 - val_loss: 153.9544 - val_mae: 8.3871 - val_mse: 153.9544\n",
            "Epoch 183/300\n",
            "165/165 - 0s - loss: 115.2005 - mae: 7.3156 - mse: 115.2005 - val_loss: 155.8044 - val_mae: 8.3249 - val_mse: 155.8044\n",
            "Epoch 184/300\n",
            "165/165 - 0s - loss: 115.2684 - mae: 7.3194 - mse: 115.2684 - val_loss: 159.6890 - val_mae: 8.4865 - val_mse: 159.6890\n",
            "Epoch 185/300\n",
            "165/165 - 0s - loss: 115.4208 - mae: 7.3011 - mse: 115.4208 - val_loss: 169.9470 - val_mae: 8.8480 - val_mse: 169.9470\n",
            "Epoch 186/300\n",
            "165/165 - 0s - loss: 115.1206 - mae: 7.3718 - mse: 115.1206 - val_loss: 152.4374 - val_mae: 8.2787 - val_mse: 152.4374\n",
            "Epoch 187/300\n",
            "165/165 - 0s - loss: 115.5079 - mae: 7.3267 - mse: 115.5079 - val_loss: 155.3002 - val_mae: 8.4256 - val_mse: 155.3002\n",
            "Epoch 188/300\n",
            "165/165 - 0s - loss: 115.4557 - mae: 7.3187 - mse: 115.4557 - val_loss: 150.4104 - val_mae: 8.1167 - val_mse: 150.4104\n",
            "Epoch 189/300\n",
            "165/165 - 0s - loss: 115.0721 - mae: 7.3303 - mse: 115.0721 - val_loss: 151.8437 - val_mae: 8.3956 - val_mse: 151.8437\n",
            "Epoch 190/300\n",
            "165/165 - 0s - loss: 115.2058 - mae: 7.3011 - mse: 115.2058 - val_loss: 184.3155 - val_mae: 9.2791 - val_mse: 184.3155\n",
            "Epoch 191/300\n",
            "165/165 - 0s - loss: 114.6995 - mae: 7.3147 - mse: 114.6995 - val_loss: 163.6154 - val_mae: 8.4838 - val_mse: 163.6154\n",
            "Epoch 192/300\n",
            "165/165 - 0s - loss: 114.1580 - mae: 7.2935 - mse: 114.1580 - val_loss: 153.5527 - val_mae: 8.2162 - val_mse: 153.5527\n",
            "Epoch 193/300\n",
            "165/165 - 0s - loss: 113.5056 - mae: 7.2904 - mse: 113.5056 - val_loss: 147.7775 - val_mae: 8.1455 - val_mse: 147.7775\n",
            "Epoch 194/300\n",
            "165/165 - 0s - loss: 113.9855 - mae: 7.3218 - mse: 113.9855 - val_loss: 169.7513 - val_mae: 8.7448 - val_mse: 169.7513\n",
            "Epoch 195/300\n",
            "165/165 - 0s - loss: 113.1905 - mae: 7.3044 - mse: 113.1905 - val_loss: 158.5254 - val_mae: 8.2402 - val_mse: 158.5254\n",
            "Epoch 196/300\n",
            "165/165 - 0s - loss: 113.3890 - mae: 7.2982 - mse: 113.3890 - val_loss: 159.2353 - val_mae: 8.3423 - val_mse: 159.2353\n",
            "Epoch 197/300\n",
            "165/165 - 0s - loss: 112.8968 - mae: 7.2617 - mse: 112.8968 - val_loss: 174.3282 - val_mae: 9.0649 - val_mse: 174.3282\n",
            "Epoch 198/300\n",
            "165/165 - 0s - loss: 113.2009 - mae: 7.2798 - mse: 113.2009 - val_loss: 155.4786 - val_mae: 8.6192 - val_mse: 155.4786\n",
            "Epoch 199/300\n",
            "165/165 - 0s - loss: 112.6245 - mae: 7.2514 - mse: 112.6245 - val_loss: 147.4775 - val_mae: 8.0764 - val_mse: 147.4775\n",
            "Epoch 200/300\n",
            "165/165 - 0s - loss: 111.8144 - mae: 7.2201 - mse: 111.8144 - val_loss: 153.0774 - val_mae: 8.6169 - val_mse: 153.0774\n",
            "Epoch 201/300\n",
            "165/165 - 0s - loss: 112.9601 - mae: 7.2808 - mse: 112.9601 - val_loss: 155.1883 - val_mae: 8.7809 - val_mse: 155.1883\n",
            "Epoch 202/300\n",
            "165/165 - 0s - loss: 112.5579 - mae: 7.2883 - mse: 112.5579 - val_loss: 166.4867 - val_mae: 8.7215 - val_mse: 166.4867\n",
            "Epoch 203/300\n",
            "165/165 - 0s - loss: 112.2091 - mae: 7.2363 - mse: 112.2091 - val_loss: 150.3711 - val_mae: 8.5029 - val_mse: 150.3711\n",
            "Epoch 204/300\n",
            "165/165 - 0s - loss: 112.4916 - mae: 7.2852 - mse: 112.4916 - val_loss: 148.2461 - val_mae: 8.1445 - val_mse: 148.2461\n",
            "Epoch 205/300\n",
            "165/165 - 0s - loss: 112.0400 - mae: 7.2446 - mse: 112.0400 - val_loss: 174.2071 - val_mae: 9.0380 - val_mse: 174.2071\n",
            "Epoch 206/300\n",
            "165/165 - 0s - loss: 111.9257 - mae: 7.2305 - mse: 111.9257 - val_loss: 151.3108 - val_mae: 8.5129 - val_mse: 151.3108\n",
            "Epoch 207/300\n",
            "165/165 - 0s - loss: 111.0326 - mae: 7.2429 - mse: 111.0326 - val_loss: 152.6897 - val_mae: 8.2369 - val_mse: 152.6897\n",
            "Epoch 208/300\n",
            "165/165 - 0s - loss: 112.0036 - mae: 7.2884 - mse: 112.0036 - val_loss: 155.7688 - val_mae: 8.5261 - val_mse: 155.7688\n",
            "Epoch 209/300\n",
            "165/165 - 0s - loss: 111.8715 - mae: 7.2497 - mse: 111.8715 - val_loss: 156.8406 - val_mae: 8.4394 - val_mse: 156.8406\n",
            "Epoch 210/300\n",
            "165/165 - 0s - loss: 111.3417 - mae: 7.2557 - mse: 111.3417 - val_loss: 152.3785 - val_mae: 8.2073 - val_mse: 152.3785\n",
            "Epoch 211/300\n",
            "165/165 - 0s - loss: 111.0890 - mae: 7.2242 - mse: 111.0890 - val_loss: 168.6572 - val_mae: 8.6857 - val_mse: 168.6572\n",
            "Epoch 212/300\n",
            "165/165 - 0s - loss: 110.3365 - mae: 7.1909 - mse: 110.3365 - val_loss: 146.8477 - val_mae: 8.3072 - val_mse: 146.8477\n",
            "Epoch 213/300\n",
            "165/165 - 0s - loss: 110.3702 - mae: 7.2135 - mse: 110.3702 - val_loss: 150.4162 - val_mae: 8.0848 - val_mse: 150.4162\n",
            "Epoch 214/300\n",
            "165/165 - 0s - loss: 109.5935 - mae: 7.1773 - mse: 109.5935 - val_loss: 174.2505 - val_mae: 9.7371 - val_mse: 174.2505\n",
            "Epoch 215/300\n",
            "165/165 - 0s - loss: 110.3971 - mae: 7.2215 - mse: 110.3971 - val_loss: 146.8538 - val_mae: 8.0674 - val_mse: 146.8538\n",
            "Epoch 216/300\n",
            "165/165 - 0s - loss: 110.2626 - mae: 7.2169 - mse: 110.2626 - val_loss: 153.9058 - val_mae: 8.2342 - val_mse: 153.9058\n",
            "Epoch 217/300\n",
            "165/165 - 0s - loss: 109.8031 - mae: 7.2097 - mse: 109.8031 - val_loss: 157.1626 - val_mae: 8.3895 - val_mse: 157.1626\n",
            "Epoch 218/300\n",
            "165/165 - 0s - loss: 109.6950 - mae: 7.1873 - mse: 109.6950 - val_loss: 148.9554 - val_mae: 8.2804 - val_mse: 148.9554\n",
            "Epoch 219/300\n",
            "165/165 - 0s - loss: 110.0679 - mae: 7.1886 - mse: 110.0679 - val_loss: 151.4172 - val_mae: 8.2163 - val_mse: 151.4172\n",
            "Epoch 220/300\n",
            "165/165 - 0s - loss: 109.6998 - mae: 7.2025 - mse: 109.6998 - val_loss: 154.0874 - val_mae: 8.2356 - val_mse: 154.0874\n",
            "Epoch 221/300\n",
            "165/165 - 0s - loss: 108.8375 - mae: 7.1881 - mse: 108.8375 - val_loss: 152.3801 - val_mae: 8.2551 - val_mse: 152.3801\n",
            "Epoch 222/300\n",
            "165/165 - 0s - loss: 109.4212 - mae: 7.2013 - mse: 109.4212 - val_loss: 147.5189 - val_mae: 8.2815 - val_mse: 147.5189\n",
            "Epoch 223/300\n",
            "165/165 - 0s - loss: 109.8703 - mae: 7.2156 - mse: 109.8703 - val_loss: 164.3971 - val_mae: 8.5130 - val_mse: 164.3971\n",
            "Epoch 224/300\n",
            "165/165 - 0s - loss: 108.8595 - mae: 7.2015 - mse: 108.8595 - val_loss: 163.1750 - val_mae: 8.7349 - val_mse: 163.1750\n",
            "Epoch 225/300\n",
            "165/165 - 0s - loss: 109.2893 - mae: 7.2035 - mse: 109.2893 - val_loss: 148.7052 - val_mae: 8.4465 - val_mse: 148.7052\n",
            "Epoch 226/300\n",
            "165/165 - 0s - loss: 108.4005 - mae: 7.1393 - mse: 108.4005 - val_loss: 148.3646 - val_mae: 8.1960 - val_mse: 148.3646\n",
            "Epoch 227/300\n",
            "165/165 - 0s - loss: 108.1410 - mae: 7.1362 - mse: 108.1410 - val_loss: 146.9216 - val_mae: 8.1827 - val_mse: 146.9216\n",
            "Epoch 228/300\n",
            "165/165 - 0s - loss: 108.0742 - mae: 7.1537 - mse: 108.0742 - val_loss: 147.3202 - val_mae: 8.1780 - val_mse: 147.3202\n",
            "Epoch 229/300\n",
            "165/165 - 0s - loss: 109.0012 - mae: 7.1657 - mse: 109.0012 - val_loss: 150.5420 - val_mae: 8.3734 - val_mse: 150.5420\n",
            "Epoch 230/300\n",
            "165/165 - 0s - loss: 107.5883 - mae: 7.1746 - mse: 107.5883 - val_loss: 152.9911 - val_mae: 8.5783 - val_mse: 152.9911\n",
            "Epoch 231/300\n",
            "165/165 - 0s - loss: 108.0346 - mae: 7.1655 - mse: 108.0346 - val_loss: 144.5431 - val_mae: 8.1425 - val_mse: 144.5431\n",
            "Epoch 232/300\n",
            "165/165 - 0s - loss: 107.7436 - mae: 7.1379 - mse: 107.7436 - val_loss: 172.4130 - val_mae: 9.6472 - val_mse: 172.4130\n",
            "Epoch 233/300\n",
            "165/165 - 0s - loss: 107.7742 - mae: 7.1878 - mse: 107.7742 - val_loss: 154.9311 - val_mae: 8.7910 - val_mse: 154.9311\n",
            "Epoch 234/300\n",
            "165/165 - 0s - loss: 107.5472 - mae: 7.1322 - mse: 107.5472 - val_loss: 161.9792 - val_mae: 8.7764 - val_mse: 161.9792\n",
            "Epoch 235/300\n",
            "165/165 - 0s - loss: 107.0331 - mae: 7.1250 - mse: 107.0331 - val_loss: 144.6534 - val_mae: 8.0566 - val_mse: 144.6534\n",
            "Epoch 236/300\n",
            "165/165 - 0s - loss: 107.8021 - mae: 7.1572 - mse: 107.8021 - val_loss: 154.3393 - val_mae: 8.3252 - val_mse: 154.3393\n",
            "Epoch 237/300\n",
            "165/165 - 0s - loss: 107.5464 - mae: 7.1701 - mse: 107.5464 - val_loss: 162.0914 - val_mae: 8.7427 - val_mse: 162.0914\n",
            "Epoch 238/300\n",
            "165/165 - 0s - loss: 107.3975 - mae: 7.1685 - mse: 107.3975 - val_loss: 149.4437 - val_mae: 8.2925 - val_mse: 149.4437\n",
            "Epoch 239/300\n",
            "165/165 - 0s - loss: 106.5253 - mae: 7.1240 - mse: 106.5253 - val_loss: 150.9195 - val_mae: 8.2502 - val_mse: 150.9195\n",
            "Epoch 240/300\n",
            "165/165 - 0s - loss: 107.3530 - mae: 7.1115 - mse: 107.3530 - val_loss: 146.7191 - val_mae: 8.3386 - val_mse: 146.7191\n",
            "Epoch 241/300\n",
            "165/165 - 0s - loss: 106.3936 - mae: 7.1262 - mse: 106.3936 - val_loss: 149.0397 - val_mae: 8.4161 - val_mse: 149.0397\n",
            "Epoch 242/300\n",
            "165/165 - 0s - loss: 107.0895 - mae: 7.1174 - mse: 107.0895 - val_loss: 148.4818 - val_mae: 8.5459 - val_mse: 148.4818\n",
            "Epoch 243/300\n",
            "165/165 - 0s - loss: 106.4313 - mae: 7.1143 - mse: 106.4313 - val_loss: 152.0291 - val_mae: 8.1997 - val_mse: 152.0291\n",
            "Epoch 244/300\n",
            "165/165 - 0s - loss: 106.1456 - mae: 7.1178 - mse: 106.1456 - val_loss: 162.4684 - val_mae: 9.1092 - val_mse: 162.4684\n",
            "Epoch 245/300\n",
            "165/165 - 0s - loss: 106.8333 - mae: 7.1426 - mse: 106.8333 - val_loss: 150.2050 - val_mae: 8.6552 - val_mse: 150.2050\n",
            "Epoch 246/300\n",
            "165/165 - 0s - loss: 106.3327 - mae: 7.0946 - mse: 106.3327 - val_loss: 153.3124 - val_mae: 8.8443 - val_mse: 153.3124\n",
            "Epoch 247/300\n",
            "165/165 - 0s - loss: 106.5906 - mae: 7.0836 - mse: 106.5906 - val_loss: 153.7360 - val_mae: 8.3327 - val_mse: 153.7360\n",
            "Epoch 248/300\n",
            "165/165 - 0s - loss: 105.7685 - mae: 7.1106 - mse: 105.7685 - val_loss: 143.2112 - val_mae: 8.0707 - val_mse: 143.2112\n",
            "Epoch 249/300\n",
            "165/165 - 0s - loss: 105.9625 - mae: 7.1263 - mse: 105.9625 - val_loss: 145.9110 - val_mae: 8.3098 - val_mse: 145.9110\n",
            "Epoch 250/300\n",
            "165/165 - 0s - loss: 105.4540 - mae: 7.0761 - mse: 105.4540 - val_loss: 167.4465 - val_mae: 8.7964 - val_mse: 167.4465\n",
            "Epoch 251/300\n",
            "165/165 - 0s - loss: 104.8748 - mae: 7.0900 - mse: 104.8748 - val_loss: 146.0092 - val_mae: 8.0404 - val_mse: 146.0092\n",
            "Epoch 252/300\n",
            "165/165 - 0s - loss: 105.1603 - mae: 7.0991 - mse: 105.1603 - val_loss: 147.6917 - val_mae: 8.2344 - val_mse: 147.6917\n",
            "Epoch 253/300\n",
            "165/165 - 0s - loss: 104.8187 - mae: 7.0965 - mse: 104.8187 - val_loss: 153.4258 - val_mae: 8.3346 - val_mse: 153.4258\n",
            "Epoch 254/300\n",
            "165/165 - 0s - loss: 105.8413 - mae: 7.0924 - mse: 105.8413 - val_loss: 149.3832 - val_mae: 8.1911 - val_mse: 149.3832\n",
            "Epoch 255/300\n",
            "165/165 - 0s - loss: 105.0824 - mae: 7.0763 - mse: 105.0824 - val_loss: 149.9679 - val_mae: 8.4964 - val_mse: 149.9679\n",
            "Epoch 256/300\n",
            "165/165 - 0s - loss: 103.8898 - mae: 7.0818 - mse: 103.8898 - val_loss: 157.7900 - val_mae: 8.5111 - val_mse: 157.7900\n",
            "Epoch 257/300\n",
            "165/165 - 0s - loss: 104.7373 - mae: 7.0707 - mse: 104.7373 - val_loss: 165.0930 - val_mae: 8.6472 - val_mse: 165.0930\n",
            "Epoch 258/300\n",
            "165/165 - 0s - loss: 104.5619 - mae: 7.0744 - mse: 104.5619 - val_loss: 154.8239 - val_mae: 8.9462 - val_mse: 154.8239\n",
            "Epoch 259/300\n",
            "165/165 - 0s - loss: 104.7079 - mae: 7.0699 - mse: 104.7079 - val_loss: 149.5542 - val_mae: 8.2068 - val_mse: 149.5542\n",
            "Epoch 260/300\n",
            "165/165 - 0s - loss: 104.5331 - mae: 7.0701 - mse: 104.5331 - val_loss: 149.7077 - val_mae: 8.4567 - val_mse: 149.7077\n",
            "Epoch 261/300\n",
            "165/165 - 0s - loss: 103.9826 - mae: 7.0899 - mse: 103.9826 - val_loss: 179.5705 - val_mae: 9.3192 - val_mse: 179.5705\n",
            "Epoch 262/300\n",
            "165/165 - 0s - loss: 103.8717 - mae: 7.0726 - mse: 103.8717 - val_loss: 154.0260 - val_mae: 8.3776 - val_mse: 154.0260\n",
            "Epoch 263/300\n",
            "165/165 - 0s - loss: 104.5998 - mae: 7.0641 - mse: 104.5998 - val_loss: 148.2921 - val_mae: 8.2079 - val_mse: 148.2921\n",
            "Epoch 264/300\n",
            "165/165 - 0s - loss: 104.2809 - mae: 7.0629 - mse: 104.2809 - val_loss: 143.1453 - val_mae: 8.1446 - val_mse: 143.1453\n",
            "Epoch 265/300\n",
            "165/165 - 0s - loss: 102.5207 - mae: 7.0281 - mse: 102.5207 - val_loss: 148.7117 - val_mae: 8.5091 - val_mse: 148.7117\n",
            "Epoch 266/300\n",
            "165/165 - 0s - loss: 103.9262 - mae: 7.0481 - mse: 103.9262 - val_loss: 154.1511 - val_mae: 8.2809 - val_mse: 154.1511\n",
            "Epoch 267/300\n",
            "165/165 - 0s - loss: 103.3628 - mae: 7.0418 - mse: 103.3628 - val_loss: 150.3161 - val_mae: 8.2771 - val_mse: 150.3161\n",
            "Epoch 268/300\n",
            "165/165 - 0s - loss: 103.4356 - mae: 7.0374 - mse: 103.4356 - val_loss: 144.6576 - val_mae: 8.1389 - val_mse: 144.6576\n",
            "Epoch 269/300\n",
            "165/165 - 0s - loss: 103.0159 - mae: 7.0418 - mse: 103.0159 - val_loss: 150.4211 - val_mae: 8.4455 - val_mse: 150.4211\n",
            "Epoch 270/300\n",
            "165/165 - 0s - loss: 102.8297 - mae: 7.0363 - mse: 102.8297 - val_loss: 163.6186 - val_mae: 8.5449 - val_mse: 163.6186\n",
            "Epoch 271/300\n",
            "165/165 - 0s - loss: 102.2427 - mae: 6.9735 - mse: 102.2427 - val_loss: 161.7177 - val_mae: 8.4599 - val_mse: 161.7177\n",
            "Epoch 272/300\n",
            "165/165 - 0s - loss: 101.9806 - mae: 7.0462 - mse: 101.9806 - val_loss: 172.8775 - val_mae: 9.0306 - val_mse: 172.8775\n",
            "Epoch 273/300\n",
            "165/165 - 0s - loss: 103.2010 - mae: 7.0610 - mse: 103.2010 - val_loss: 154.7385 - val_mae: 8.8671 - val_mse: 154.7385\n",
            "Epoch 274/300\n",
            "165/165 - 0s - loss: 102.7975 - mae: 7.0463 - mse: 102.7975 - val_loss: 144.9565 - val_mae: 8.3312 - val_mse: 144.9565\n",
            "Epoch 275/300\n",
            "165/165 - 0s - loss: 103.1720 - mae: 7.0632 - mse: 103.1720 - val_loss: 150.0632 - val_mae: 8.5117 - val_mse: 150.0632\n",
            "Epoch 276/300\n",
            "165/165 - 0s - loss: 102.6720 - mae: 7.0160 - mse: 102.6720 - val_loss: 147.3838 - val_mae: 8.1141 - val_mse: 147.3838\n",
            "Epoch 277/300\n",
            "165/165 - 0s - loss: 102.2158 - mae: 7.0218 - mse: 102.2158 - val_loss: 159.4256 - val_mae: 9.2376 - val_mse: 159.4256\n",
            "Epoch 278/300\n",
            "165/165 - 0s - loss: 101.9867 - mae: 7.0020 - mse: 101.9867 - val_loss: 186.4320 - val_mae: 9.5496 - val_mse: 186.4320\n",
            "Epoch 279/300\n",
            "165/165 - 0s - loss: 102.1090 - mae: 7.0479 - mse: 102.1090 - val_loss: 163.7820 - val_mae: 8.5682 - val_mse: 163.7820\n",
            "Epoch 280/300\n",
            "165/165 - 0s - loss: 102.3184 - mae: 7.0059 - mse: 102.3184 - val_loss: 158.0823 - val_mae: 8.8869 - val_mse: 158.0823\n",
            "Epoch 281/300\n",
            "165/165 - 0s - loss: 102.5737 - mae: 7.0295 - mse: 102.5737 - val_loss: 181.8606 - val_mae: 9.3439 - val_mse: 181.8606\n",
            "Epoch 282/300\n",
            "165/165 - 0s - loss: 102.4395 - mae: 7.0523 - mse: 102.4395 - val_loss: 144.4954 - val_mae: 8.3091 - val_mse: 144.4954\n",
            "Epoch 283/300\n",
            "165/165 - 0s - loss: 101.5167 - mae: 7.0068 - mse: 101.5167 - val_loss: 142.8844 - val_mae: 8.1375 - val_mse: 142.8844\n",
            "Epoch 284/300\n",
            "165/165 - 0s - loss: 101.2950 - mae: 7.0075 - mse: 101.2950 - val_loss: 147.5862 - val_mae: 8.1350 - val_mse: 147.5862\n",
            "Epoch 285/300\n",
            "165/165 - 1s - loss: 101.3695 - mae: 7.0202 - mse: 101.3695 - val_loss: 149.8611 - val_mae: 8.3994 - val_mse: 149.8611\n",
            "Epoch 286/300\n",
            "165/165 - 0s - loss: 101.3995 - mae: 6.9926 - mse: 101.3995 - val_loss: 173.1097 - val_mae: 9.0393 - val_mse: 173.1097\n",
            "Epoch 287/300\n",
            "165/165 - 0s - loss: 101.5316 - mae: 7.0281 - mse: 101.5316 - val_loss: 165.4065 - val_mae: 8.6721 - val_mse: 165.4065\n",
            "Epoch 288/300\n",
            "165/165 - 0s - loss: 101.3194 - mae: 6.9874 - mse: 101.3194 - val_loss: 142.5242 - val_mae: 8.1407 - val_mse: 142.5242\n",
            "Epoch 289/300\n",
            "165/165 - 0s - loss: 101.2098 - mae: 7.0198 - mse: 101.2098 - val_loss: 154.3800 - val_mae: 8.7932 - val_mse: 154.3800\n",
            "Epoch 290/300\n",
            "165/165 - 0s - loss: 101.2121 - mae: 6.9880 - mse: 101.2121 - val_loss: 146.1117 - val_mae: 8.1479 - val_mse: 146.1117\n",
            "Epoch 291/300\n",
            "165/165 - 0s - loss: 100.7666 - mae: 6.9990 - mse: 100.7666 - val_loss: 150.2429 - val_mae: 8.4567 - val_mse: 150.2429\n",
            "Epoch 292/300\n",
            "165/165 - 0s - loss: 100.1251 - mae: 6.9404 - mse: 100.1251 - val_loss: 154.4523 - val_mae: 8.8156 - val_mse: 154.4523\n",
            "Epoch 293/300\n",
            "165/165 - 0s - loss: 100.2612 - mae: 6.9907 - mse: 100.2612 - val_loss: 143.7227 - val_mae: 8.2674 - val_mse: 143.7227\n",
            "Epoch 294/300\n",
            "165/165 - 0s - loss: 100.9085 - mae: 6.9531 - mse: 100.9085 - val_loss: 149.6133 - val_mae: 8.1193 - val_mse: 149.6133\n",
            "Epoch 295/300\n",
            "165/165 - 0s - loss: 99.7192 - mae: 6.9884 - mse: 99.7192 - val_loss: 156.6586 - val_mae: 8.4335 - val_mse: 156.6586\n",
            "Epoch 296/300\n",
            "165/165 - 0s - loss: 99.8487 - mae: 6.9579 - mse: 99.8487 - val_loss: 151.0033 - val_mae: 8.6202 - val_mse: 151.0033\n",
            "Epoch 297/300\n",
            "165/165 - 0s - loss: 100.2081 - mae: 7.0066 - mse: 100.2081 - val_loss: 151.1686 - val_mae: 8.8594 - val_mse: 151.1686\n",
            "Epoch 298/300\n",
            "165/165 - 0s - loss: 100.0262 - mae: 6.9574 - mse: 100.0262 - val_loss: 146.8595 - val_mae: 8.1869 - val_mse: 146.8595\n",
            "Epoch 299/300\n",
            "165/165 - 0s - loss: 99.0969 - mae: 6.9353 - mse: 99.0969 - val_loss: 157.3179 - val_mae: 8.3723 - val_mse: 157.3179\n",
            "Epoch 300/300\n",
            "165/165 - 0s - loss: 99.8162 - mae: 6.9450 - mse: 99.8162 - val_loss: 148.6628 - val_mae: 8.2762 - val_mse: 148.6628\n"
          ],
          "name": "stdout"
        }
      ]
    },
    {
      "cell_type": "markdown",
      "metadata": {
        "id": "GEZpDnIMLiXu"
      },
      "source": [
        "학습 과정은 history에 저장되며, 결과 확인을 위해 마지막 학습 과정을 출력해 확인한다."
      ]
    },
    {
      "cell_type": "code",
      "metadata": {
        "colab": {
          "base_uri": "https://localhost:8080/",
          "height": 204
        },
        "id": "iYbNZL5V9sob",
        "outputId": "29f8289c-7385-4dc5-89cd-11e9064dff0b"
      },
      "source": [
        "hist = pd.DataFrame(history.history)\n",
        "hist['epoch'] = history.epoch\n",
        "hist.tail()"
      ],
      "execution_count": 105,
      "outputs": [
        {
          "output_type": "execute_result",
          "data": {
            "text/html": [
              "<div>\n",
              "<style scoped>\n",
              "    .dataframe tbody tr th:only-of-type {\n",
              "        vertical-align: middle;\n",
              "    }\n",
              "\n",
              "    .dataframe tbody tr th {\n",
              "        vertical-align: top;\n",
              "    }\n",
              "\n",
              "    .dataframe thead th {\n",
              "        text-align: right;\n",
              "    }\n",
              "</style>\n",
              "<table border=\"1\" class=\"dataframe\">\n",
              "  <thead>\n",
              "    <tr style=\"text-align: right;\">\n",
              "      <th></th>\n",
              "      <th>loss</th>\n",
              "      <th>mae</th>\n",
              "      <th>mse</th>\n",
              "      <th>val_loss</th>\n",
              "      <th>val_mae</th>\n",
              "      <th>val_mse</th>\n",
              "      <th>epoch</th>\n",
              "    </tr>\n",
              "  </thead>\n",
              "  <tbody>\n",
              "    <tr>\n",
              "      <th>295</th>\n",
              "      <td>99.848747</td>\n",
              "      <td>6.957880</td>\n",
              "      <td>99.848747</td>\n",
              "      <td>151.003311</td>\n",
              "      <td>8.620188</td>\n",
              "      <td>151.003311</td>\n",
              "      <td>295</td>\n",
              "    </tr>\n",
              "    <tr>\n",
              "      <th>296</th>\n",
              "      <td>100.208145</td>\n",
              "      <td>7.006636</td>\n",
              "      <td>100.208145</td>\n",
              "      <td>151.168610</td>\n",
              "      <td>8.859381</td>\n",
              "      <td>151.168610</td>\n",
              "      <td>296</td>\n",
              "    </tr>\n",
              "    <tr>\n",
              "      <th>297</th>\n",
              "      <td>100.026169</td>\n",
              "      <td>6.957355</td>\n",
              "      <td>100.026169</td>\n",
              "      <td>146.859451</td>\n",
              "      <td>8.186939</td>\n",
              "      <td>146.859451</td>\n",
              "      <td>297</td>\n",
              "    </tr>\n",
              "    <tr>\n",
              "      <th>298</th>\n",
              "      <td>99.096878</td>\n",
              "      <td>6.935322</td>\n",
              "      <td>99.096878</td>\n",
              "      <td>157.317947</td>\n",
              "      <td>8.372309</td>\n",
              "      <td>157.317947</td>\n",
              "      <td>298</td>\n",
              "    </tr>\n",
              "    <tr>\n",
              "      <th>299</th>\n",
              "      <td>99.816154</td>\n",
              "      <td>6.944957</td>\n",
              "      <td>99.816154</td>\n",
              "      <td>148.662766</td>\n",
              "      <td>8.276210</td>\n",
              "      <td>148.662766</td>\n",
              "      <td>299</td>\n",
              "    </tr>\n",
              "  </tbody>\n",
              "</table>\n",
              "</div>"
            ],
            "text/plain": [
              "           loss       mae         mse    val_loss   val_mae     val_mse  epoch\n",
              "295   99.848747  6.957880   99.848747  151.003311  8.620188  151.003311    295\n",
              "296  100.208145  7.006636  100.208145  151.168610  8.859381  151.168610    296\n",
              "297  100.026169  6.957355  100.026169  146.859451  8.186939  146.859451    297\n",
              "298   99.096878  6.935322   99.096878  157.317947  8.372309  157.317947    298\n",
              "299   99.816154  6.944957   99.816154  148.662766  8.276210  148.662766    299"
            ]
          },
          "metadata": {
            "tags": []
          },
          "execution_count": 105
        }
      ]
    },
    {
      "cell_type": "markdown",
      "metadata": {
        "id": "KInjA4pOLuN1"
      },
      "source": [
        "학습하면서 train과 validataion의 에러율이 비슷한지 확인한디."
      ]
    },
    {
      "cell_type": "code",
      "metadata": {
        "colab": {
          "base_uri": "https://localhost:8080/",
          "height": 714
        },
        "id": "hDzMzWoG9sqk",
        "outputId": "7b9fb0b5-c008-4745-cfa0-5ce47c9d52a3"
      },
      "source": [
        "import matplotlib.pyplot as plt\n",
        "\n",
        "def plot_history(history):\n",
        "  hist = pd.DataFrame(history.history)\n",
        "  hist['epoch'] = history.epoch\n",
        "\n",
        "  plt.figure(figsize=(8,12))\n",
        "\n",
        "  plt.subplot(2,1,1)\n",
        "  plt.xlabel('Epoch')\n",
        "  plt.ylabel('Mean Abs Error [pm25]')\n",
        "  plt.plot(hist['epoch'], hist['mae'],\n",
        "           label='Train Error')\n",
        "  plt.plot(hist['epoch'], hist['val_mae'],\n",
        "           label = 'Val Error')\n",
        "  # plt.ylim([0,5])\n",
        "  plt.legend()\n",
        "\n",
        "  plt.subplot(2,1,2)\n",
        "  plt.xlabel('Epoch')\n",
        "  plt.ylabel('Mean Square Error [$pm25^2$]')\n",
        "  plt.plot(hist['epoch'], hist['mse'],\n",
        "           label='Train Error')\n",
        "  plt.plot(hist['epoch'], hist['val_mse'],\n",
        "           label = 'Val Error')\n",
        "  # plt.ylim([0,20])\n",
        "  plt.legend()\n",
        "  plt.show()\n",
        "\n",
        "plot_history(history)"
      ],
      "execution_count": 106,
      "outputs": [
        {
          "output_type": "display_data",
          "data": {
            "image/png": "[encoded data removed]",
            "text/plain": [
              "<Figure size 576x864 with 2 Axes>"
            ]
          },
          "metadata": {
            "tags": [],
            "needs_background": "light"
          }
        }
      ]
    },
    {
      "cell_type": "markdown",
      "metadata": {
        "id": "YKlO0muDL3x-"
      },
      "source": [
        "모델에 test data를 넣어 분포도로 결과를 확인한다.<br>\n",
        "보통 오른쪽 대각선이 나와야 잘 나온것이다."
      ]
    },
    {
      "cell_type": "code",
      "metadata": {
        "colab": {
          "base_uri": "https://localhost:8080/",
          "height": 279
        },
        "id": "Wy-kx2-J9ssy",
        "outputId": "703e3230-86de-42d5-ba18-c8349058e455"
      },
      "source": [
        "test_predictions = model.predict(normed_test_data).flatten()\n",
        "\n",
        "plt.scatter(test_labels, test_predictions)\n",
        "plt.xlabel('True Values [pm25]')\n",
        "plt.ylabel('Predictions [pm25]')\n",
        "plt.axis('equal')\n",
        "plt.axis('square')\n",
        "plt.xlim([0,plt.xlim()[1]])\n",
        "plt.ylim([0,plt.ylim()[1]])\n",
        "_ = plt.plot([-100, 100], [-100, 100])"
      ],
      "execution_count": 107,
      "outputs": [
        {
          "output_type": "display_data",
          "data": {
            "image/png": "[encoded data removed]",
            "text/plain": [
              "<Figure size 432x288 with 1 Axes>"
            ]
          },
          "metadata": {
            "tags": [],
            "needs_background": "light"
          }
        }
      ]
    },
    {
      "cell_type": "markdown",
      "metadata": {
        "id": "9oVx3C87MKSF"
      },
      "source": [
        "오차분포를 확인한다."
      ]
    },
    {
      "cell_type": "code",
      "metadata": {
        "colab": {
          "base_uri": "https://localhost:8080/",
          "height": 280
        },
        "id": "wXUKh_989svM",
        "outputId": "b206f7c5-5d48-41c6-8625-b9aa40211b80"
      },
      "source": [
        "error = test_predictions - test_labels\n",
        "plt.hist(error, bins = 25)\n",
        "plt.xlabel(\"Prediction Error [MPG]\")\n",
        "_ = plt.ylabel(\"Count\")"
      ],
      "execution_count": 108,
      "outputs": [
        {
          "output_type": "display_data",
          "data": {
            "image/png": "[encoded data removed]",
            "text/plain": [
              "<Figure size 432x288 with 1 Axes>"
            ]
          },
          "metadata": {
            "tags": [],
            "needs_background": "light"
          }
        }
      ]
    }
  ]
}